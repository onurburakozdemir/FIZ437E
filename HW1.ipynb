{
  "nbformat": 4,
  "nbformat_minor": 0,
  "metadata": {
    "colab": {
      "name": "HW1.ipynb",
      "provenance": [],
      "collapsed_sections": [],
      "include_colab_link": true
    },
    "kernelspec": {
      "name": "python3",
      "display_name": "Python 3"
    },
    "language_info": {
      "name": "python"
    }
  },
  "cells": [
    {
      "cell_type": "markdown",
      "metadata": {
        "id": "view-in-github",
        "colab_type": "text"
      },
      "source": [
        "<a href=\"https://colab.research.google.com/github/onurburakozdemir/FIZ437E/blob/main/HW1.ipynb\" target=\"_parent\"><img src=\"https://colab.research.google.com/assets/colab-badge.svg\" alt=\"Open In Colab\"/></a>"
      ]
    },
    {
      "cell_type": "code",
      "metadata": {
        "id": "Vw4LTYjAsFm8",
        "colab": {
          "base_uri": "https://localhost:8080/"
        },
        "outputId": "26306745-9e0c-4959-97f5-610de0a22ac1"
      },
      "source": [
        "!pip uninstall scikit-learn -y\n",
        "\n",
        "!pip install -U scikit-learn"
      ],
      "execution_count": null,
      "outputs": [
        {
          "output_type": "stream",
          "name": "stdout",
          "text": [
            "Found existing installation: scikit-learn 0.22.2.post1\n",
            "Uninstalling scikit-learn-0.22.2.post1:\n",
            "  Successfully uninstalled scikit-learn-0.22.2.post1\n",
            "Collecting scikit-learn\n",
            "  Downloading scikit_learn-1.0-cp37-cp37m-manylinux_2_12_x86_64.manylinux2010_x86_64.whl (23.1 MB)\n",
            "\u001b[K     |████████████████████████████████| 23.1 MB 5.5 kB/s \n",
            "\u001b[?25hRequirement already satisfied: joblib>=0.11 in /usr/local/lib/python3.7/dist-packages (from scikit-learn) (1.0.1)\n",
            "Collecting threadpoolctl>=2.0.0\n",
            "  Downloading threadpoolctl-3.0.0-py3-none-any.whl (14 kB)\n",
            "Requirement already satisfied: numpy>=1.14.6 in /usr/local/lib/python3.7/dist-packages (from scikit-learn) (1.19.5)\n",
            "Requirement already satisfied: scipy>=1.1.0 in /usr/local/lib/python3.7/dist-packages (from scikit-learn) (1.4.1)\n",
            "Installing collected packages: threadpoolctl, scikit-learn\n",
            "Successfully installed scikit-learn-1.0 threadpoolctl-3.0.0\n"
          ]
        }
      ]
    },
    {
      "cell_type": "code",
      "metadata": {
        "id": "0AilUCn0kqeJ"
      },
      "source": [
        "import numpy as np\n",
        "import matplotlib.pyplot as plt\n",
        "from sklearn.linear_model import LinearRegression\n",
        "from sklearn.preprocessing import PolynomialFeatures, SplineTransformer\n",
        "from sklearn.model_selection import train_test_split"
      ],
      "execution_count": null,
      "outputs": []
    },
    {
      "cell_type": "code",
      "metadata": {
        "colab": {
          "base_uri": "https://localhost:8080/",
          "height": 283
        },
        "id": "iB51BQuilIEY",
        "outputId": "82a8df00-37b3-4e96-f6fa-524f8fe4b2ed"
      },
      "source": [
        "def polyFit(func, n_data: int, mean = 0, std = 0.05):\n",
        "  x = np.random.rand(n) \n",
        "  y = func(x) + + np.random.normal(loc=0, scale=0.05,size=n)\n",
        "  \n",
        "\n",
        "x = x.reshape((len(x),1))\n",
        "plt.scatter(x,y)"
      ],
      "execution_count": null,
      "outputs": [
        {
          "output_type": "execute_result",
          "data": {
            "text/plain": [
              "<matplotlib.collections.PathCollection at 0x7f19297df490>"
            ]
          },
          "metadata": {},
          "execution_count": 28
        },
        {
          "output_type": "display_data",
          "data": {
            "image/png": "[encoded data removed]",
            "text/plain": [
              "<Figure size 432x288 with 1 Axes>"
            ]
          },
          "metadata": {
            "needs_background": "light"
          }
        }
      ]
    },
    {
      "cell_type": "code",
      "metadata": {
        "colab": {
          "base_uri": "https://localhost:8080/",
          "height": 265
        },
        "id": "qQ4S_x5RKprP",
        "outputId": "497a1336-a0ee-48ef-bc90-449b62617d87"
      },
      "source": [
        "X_train, X_test, Y_train, Y_test = train_test_split(x,y,test_size=0.2,random_state=0)\n",
        "\n",
        "model_polinom_regresyon = PolynomialFeatures(degree=10)\n",
        "X_polinom = model_polinom_regresyon.fit_transform(X_train)\n",
        "model_polinom_regresyon.fit(X_polinom,Y_train)\n",
        "#print(X_polinom,X_train)\n",
        "\n",
        "\n",
        "model_regresyon = LinearRegression()\n",
        "model_regresyon.fit(X_polinom,Y_train)\n",
        "#print(model_polinom_regresyon.get_params())\n",
        "X_grid = np.arange(0,2*np.pi,0.1)\n",
        "\n",
        "\n",
        "#X_grid = np.arange(min(X_train),max(X_train),0.1)\n",
        "X_grid = X_grid.reshape((len(X_grid),1))\n",
        "plt.scatter(X_train,Y_train)\n",
        "plt.plot(X_grid,model_regresyon.predict(model_polinom_regresyon.fit_transform(X_grid)))\n",
        "plt.show()"
      ],
      "execution_count": null,
      "outputs": [
        {
          "output_type": "display_data",
          "data": {
            "image/png": "[encoded data removed]",
            "text/plain": [
              "<Figure size 432x288 with 1 Axes>"
            ]
          },
          "metadata": {
            "needs_background": "light"
          }
        }
      ]
    },
    {
      "cell_type": "code",
      "metadata": {
        "colab": {
          "base_uri": "https://localhost:8080/",
          "height": 302
        },
        "id": "eBomhWt_2KbZ",
        "outputId": "79b5fe28-18e4-4665-a74d-02a3b758ad89"
      },
      "source": [
        "\"\"\"\n",
        "# plot function\n",
        "lw = 2\n",
        "fig, ax = plt.subplots()\n",
        "ax.set_prop_cycle(color=[\n",
        "    \"black\", \"teal\", \"yellowgreen\", \"gold\", \"darkorange\", \"tomato\"\n",
        "])\n",
        "ax.plot(x_plot, f(x_plot), linewidth=lw, label=\"ground truth\")\n",
        "\n",
        "# plot training points\n",
        "ax.scatter(x_train, y_train, label=\"training points\")\n",
        "\n",
        "# polynomial features\n",
        "degree=10\n",
        "model = make_pipeline(PolynomialFeatures(degree), Ridge(alpha=1e-3))\n",
        "model.fit(X_train, y_train)\n",
        "y_plot = model.predict(X_plot)\n",
        "ax.plot(x_plot, y_plot, label=f\"degree {degree}\")\n",
        "\n",
        "# B-spline with 4 + 3 - 1 = 6 basis functions\n",
        "#model = make_pipeline(SplineTransformer(n_knots=4, degree=3),Ridge(alpha=1e-3))\n",
        "#model.fit(X_train, y_train)\n",
        "\n",
        "#y_plot = model.predict(X_plot)\n",
        "#ax.plot(x_plot, y_plot, label=\"B-spline\")\n",
        "#ax.legend(loc='lower center')\n",
        "#ax.set_ylim(-10, 10)\n",
        "plt.show()\n",
        "\"\"\""
      ],
      "execution_count": null,
      "outputs": [
        {
          "output_type": "stream",
          "name": "stderr",
          "text": [
            "/usr/local/lib/python3.7/dist-packages/sklearn/linear_model/_ridge.py:156: LinAlgWarning: Ill-conditioned matrix (rcond=1.21445e-19): result may not be accurate.\n",
            "  return linalg.solve(A, Xy, sym_pos=True, overwrite_a=True).T\n"
          ]
        },
        {
          "output_type": "display_data",
          "data": {
            "image/png": "[encoded data removed]",
            "text/plain": [
              "<Figure size 432x288 with 1 Axes>"
            ]
          },
          "metadata": {
            "needs_background": "light"
          }
        }
      ]
    },
    {
      "cell_type": "markdown",
      "metadata": {
        "id": "SdGQLPonrbiv"
      },
      "source": [
        ""
      ]
    },
    {
      "cell_type": "code",
      "metadata": {
        "colab": {
          "base_uri": "https://localhost:8080/"
        },
        "id": "2Nk_9EDEveot",
        "outputId": "244232f4-fe4e-42f5-8091-04f3d077b6b7"
      },
      "source": [
        "print(len(x_points))"
      ],
      "execution_count": null,
      "outputs": [
        {
          "output_type": "stream",
          "name": "stdout",
          "text": [
            "1\n"
          ]
        }
      ]
    },
    {
      "cell_type": "code",
      "metadata": {
        "id": "qy0AIgnrviHF"
      },
      "source": [
        ""
      ],
      "execution_count": null,
      "outputs": []
    }
  ]
}