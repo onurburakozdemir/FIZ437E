{
  "nbformat": 4,
  "nbformat_minor": 0,
  "metadata": {
    "colab": {
      "name": "HW3_son",
      "provenance": [],
      "include_colab_link": true
    },
    "kernelspec": {
      "name": "python3",
      "display_name": "Python 3"
    },
    "language_info": {
      "name": "python"
    },
    "accelerator": "GPU"
  },
  "cells": [
    {
      "cell_type": "markdown",
      "metadata": {
        "id": "view-in-github",
        "colab_type": "text"
      },
      "source": [
        "<a href=\"https://colab.research.google.com/github/onurburakozdemir/FIZ437E/blob/main/HW3.ipynb\" target=\"_parent\"><img src=\"https://colab.research.google.com/assets/colab-badge.svg\" alt=\"Open In Colab\"/></a>"
      ]
    },
    {
      "cell_type": "code",
      "metadata": {
        "id": "bBbT24UNgy9y"
      },
      "source": [
        "import torch\n",
        "from torch import nn\n",
        "from torch import optim\n",
        "from torchvision import datasets, transforms\n",
        "from torch.utils.data import random_split, DataLoader\n",
        "import matplotlib.pyplot as plt"
      ],
      "execution_count": 1,
      "outputs": []
    },
    {
      "cell_type": "markdown",
      "metadata": {
        "id": "GvRUUggDOz6a"
      },
      "source": [
        "Bu hücrede nöral ağ mimarisini tanımlıyoruz. Her bir resim için 784 elemanlı ve pixel değerlerini içeren bir tensör bulunur. 2 görünmeyen katmandan sonra 10 elemanlı bir tensör elde ederiz (class sayısı = 10)"
      ]
    },
    {
      "cell_type": "code",
      "metadata": {
        "id": "C0TNDw6jOx1J"
      },
      "source": [
        "model= nn.Sequential(\n",
        "    nn.Linear(28*28,64), #Projection 28*28-->64\n",
        "    nn.ReLU(), #Non-linear func\n",
        "    nn.Linear(64,64), #Projection 64-->64\n",
        "    nn.ReLU(), #Non-linear func (Learning)\n",
        "    nn.Linear(64,10), #Projection 64-->10\n",
        ")\n",
        "\n",
        "class ResNet(nn.Module):\n",
        "    def __init__(self):\n",
        "        super().__init__()\n",
        "        self.l1 = nn.Linear(28*28, 64)\n",
        "        self.l2 = nn.Linear(64,64)\n",
        "        self.l3 = nn.Linear(64,10)\n",
        "        # dropout prevents overfitting of data\n",
        "        self.do = nn.Dropout(0.1)\n",
        "\n",
        "    def forward(self,x):\n",
        "        # hidden layer, with relu activation function\n",
        "        h1 = nn.functional.relu(self.l1(x))\n",
        "        # hidden layer, with relu activation function\n",
        "        h2 =  nn.functional.relu(self.l2(h1))\n",
        "        # dropout layer\n",
        "        do = self.do(h2+h1)\n",
        "        # output layer\n",
        "        logits = self.l3(do)\n",
        "        return logits # initialize the NN\n",
        "model = ResNet().cuda()"
      ],
      "execution_count": 2,
      "outputs": []
    },
    {
      "cell_type": "markdown",
      "metadata": {
        "id": "rg1e1952SLun"
      },
      "source": [
        "Loss hesaplamak için cross-entrophy loss ve optimizasyon için SGD optimizasyonu kullandık. Pytorch'un cross entrophy loss fonksiyonu output layer'ına softmax fonksiyonunu uygular ve log loss hesaplar."
      ]
    },
    {
      "cell_type": "code",
      "metadata": {
        "id": "9FgfIkvah3Jw"
      },
      "source": [
        "#Define optimiser \n",
        "params = model.parameters()\n",
        "optimiser=optim.SGD(params, lr=1e-2)\n",
        "#Define my loss\n",
        "loss=nn.CrossEntropyLoss() "
      ],
      "execution_count": 3,
      "outputs": []
    },
    {
      "cell_type": "markdown",
      "metadata": {
        "id": "P0Pcp89vN7mw"
      },
      "source": [
        "MNIST setini indirip işlemeye hazır hale getiriyoruz ve verileri test/validation olarak ayırıyoruz."
      ]
    },
    {
      "cell_type": "code",
      "metadata": {
        "id": "pGieRoIn_ePx"
      },
      "source": [
        "#Train, Val split\n",
        "train_data=datasets.MNIST('data', train=True, download=True, transform=transforms.ToTensor())\n",
        "train, val= random_split(train_data, [55000,5000])\n",
        "train_loader = DataLoader(train, batch_size=32)\n",
        "val_loader= DataLoader(val, batch_size=32)"
      ],
      "execution_count": 5,
      "outputs": []
    },
    {
      "cell_type": "markdown",
      "metadata": {
        "id": "ugmtjYLgTMzS"
      },
      "source": [
        "Modeli eğitme ve geri yayılım."
      ]
    },
    {
      "cell_type": "code",
      "metadata": {
        "colab": {
          "base_uri": "https://localhost:8080/"
        },
        "id": "oFIPmFfKjEji",
        "outputId": "42e12d49-4fd8-4a79-fab3-81e0bb93ff4a"
      },
      "source": [
        "nb_epochs=100\n",
        "val_loss=list()\n",
        "train_loss=list()\n",
        "val_acc=list()\n",
        "train_acc=list()\n",
        "\n",
        "for epoch in range(nb_epochs):\n",
        "  losses=list()\n",
        "  accuracies=list()\n",
        "\n",
        "  model.train() \n",
        "\n",
        "  for batch in train_loader:\n",
        "    x,y= batch\n",
        "    b=x.size(0)\n",
        "    x=x.view(b, -1).cuda()\n",
        "    l=model(x) \n",
        "    J=loss(l, y.cuda())\n",
        "    model.zero_grad()\n",
        "    J.backward()\n",
        "    optimiser.step()\n",
        "    losses.append(J.item())\n",
        "    accuracies.append(y.eq(l.detach().argmax(dim=1).cpu()).float().mean())\n",
        "\n",
        "  train_loss.append(torch.tensor(losses).mean())\n",
        "  train_acc.append(torch.tensor(accuracies).mean())\n",
        "  print(f'Epoch {epoch+1}', end=',') \n",
        "  print(f'training loss: {torch.tensor(losses).mean():.2f}', end=',') \n",
        "  print(f'training accuracy: {torch.tensor(accuracies).mean():.2f}')\n",
        "\n",
        "  losses=list()\n",
        "  accuracies=list()\n",
        "  model.eval()\n",
        "\n",
        "  for batch in val_loader:\n",
        "    x,y= batch\n",
        "    b=x.size(0)\n",
        "    x=x.view(b, -1).cuda()\n",
        "    with torch.no_grad():\n",
        "        l=model(x)\n",
        "    J=loss(l, y.cuda()) \n",
        "    losses.append(J.item())\n",
        "    accuracies.append(y.eq(l.detach().argmax(dim=1).cpu()).float().mean())\n",
        "\n",
        "  val_loss.append(torch.tensor(losses).mean())\n",
        "  val_acc.append(torch.tensor(accuracies).mean())\n",
        "\n",
        "  print(f'Epoch {epoch+1}', end=', ') \n",
        "  print(f'validation loss: {torch.tensor(losses).mean():.2f}', end=', ') \n",
        "  print(f'validation accuracy: {torch.tensor(accuracies).mean():.2f}')"
      ],
      "execution_count": 6,
      "outputs": [
        {
          "output_type": "stream",
          "name": "stdout",
          "text": [
            "Epoch 1,training loss: 0.84,training accuracy: 0.79\n",
            "Epoch 1, validation loss: 0.39, validation accuracy: 0.89\n",
            "Epoch 2,training loss: 0.38,training accuracy: 0.89\n",
            "Epoch 2, validation loss: 0.31, validation accuracy: 0.91\n",
            "Epoch 3,training loss: 0.31,training accuracy: 0.91\n",
            "Epoch 3, validation loss: 0.27, validation accuracy: 0.92\n",
            "Epoch 4,training loss: 0.27,training accuracy: 0.92\n",
            "Epoch 4, validation loss: 0.24, validation accuracy: 0.92\n",
            "Epoch 5,training loss: 0.24,training accuracy: 0.93\n",
            "Epoch 5, validation loss: 0.22, validation accuracy: 0.93\n",
            "Epoch 6,training loss: 0.22,training accuracy: 0.94\n",
            "Epoch 6, validation loss: 0.20, validation accuracy: 0.94\n",
            "Epoch 7,training loss: 0.20,training accuracy: 0.94\n",
            "Epoch 7, validation loss: 0.18, validation accuracy: 0.94\n",
            "Epoch 8,training loss: 0.18,training accuracy: 0.95\n",
            "Epoch 8, validation loss: 0.17, validation accuracy: 0.95\n",
            "Epoch 9,training loss: 0.17,training accuracy: 0.95\n",
            "Epoch 9, validation loss: 0.16, validation accuracy: 0.95\n",
            "Epoch 10,training loss: 0.16,training accuracy: 0.95\n",
            "Epoch 10, validation loss: 0.15, validation accuracy: 0.95\n",
            "Epoch 11,training loss: 0.15,training accuracy: 0.96\n",
            "Epoch 11, validation loss: 0.14, validation accuracy: 0.96\n",
            "Epoch 12,training loss: 0.14,training accuracy: 0.96\n",
            "Epoch 12, validation loss: 0.14, validation accuracy: 0.96\n",
            "Epoch 13,training loss: 0.13,training accuracy: 0.96\n",
            "Epoch 13, validation loss: 0.13, validation accuracy: 0.96\n",
            "Epoch 14,training loss: 0.12,training accuracy: 0.96\n",
            "Epoch 14, validation loss: 0.13, validation accuracy: 0.96\n",
            "Epoch 15,training loss: 0.12,training accuracy: 0.97\n",
            "Epoch 15, validation loss: 0.12, validation accuracy: 0.96\n",
            "Epoch 16,training loss: 0.11,training accuracy: 0.97\n",
            "Epoch 16, validation loss: 0.12, validation accuracy: 0.96\n",
            "Epoch 17,training loss: 0.11,training accuracy: 0.97\n",
            "Epoch 17, validation loss: 0.11, validation accuracy: 0.96\n",
            "Epoch 18,training loss: 0.10,training accuracy: 0.97\n",
            "Epoch 18, validation loss: 0.11, validation accuracy: 0.97\n",
            "Epoch 19,training loss: 0.10,training accuracy: 0.97\n",
            "Epoch 19, validation loss: 0.11, validation accuracy: 0.97\n",
            "Epoch 20,training loss: 0.09,training accuracy: 0.97\n",
            "Epoch 20, validation loss: 0.11, validation accuracy: 0.97\n",
            "Epoch 21,training loss: 0.09,training accuracy: 0.97\n",
            "Epoch 21, validation loss: 0.11, validation accuracy: 0.97\n",
            "Epoch 22,training loss: 0.09,training accuracy: 0.97\n",
            "Epoch 22, validation loss: 0.10, validation accuracy: 0.97\n",
            "Epoch 23,training loss: 0.08,training accuracy: 0.98\n",
            "Epoch 23, validation loss: 0.10, validation accuracy: 0.97\n",
            "Epoch 24,training loss: 0.08,training accuracy: 0.98\n",
            "Epoch 24, validation loss: 0.10, validation accuracy: 0.97\n",
            "Epoch 25,training loss: 0.08,training accuracy: 0.98\n",
            "Epoch 25, validation loss: 0.10, validation accuracy: 0.97\n",
            "Epoch 26,training loss: 0.07,training accuracy: 0.98\n",
            "Epoch 26, validation loss: 0.10, validation accuracy: 0.97\n",
            "Epoch 27,training loss: 0.07,training accuracy: 0.98\n",
            "Epoch 27, validation loss: 0.09, validation accuracy: 0.97\n",
            "Epoch 28,training loss: 0.07,training accuracy: 0.98\n",
            "Epoch 28, validation loss: 0.09, validation accuracy: 0.97\n",
            "Epoch 29,training loss: 0.07,training accuracy: 0.98\n",
            "Epoch 29, validation loss: 0.09, validation accuracy: 0.97\n",
            "Epoch 30,training loss: 0.07,training accuracy: 0.98\n",
            "Epoch 30, validation loss: 0.09, validation accuracy: 0.97\n",
            "Epoch 31,training loss: 0.06,training accuracy: 0.98\n",
            "Epoch 31, validation loss: 0.09, validation accuracy: 0.97\n",
            "Epoch 32,training loss: 0.06,training accuracy: 0.98\n",
            "Epoch 32, validation loss: 0.09, validation accuracy: 0.97\n",
            "Epoch 33,training loss: 0.06,training accuracy: 0.98\n",
            "Epoch 33, validation loss: 0.09, validation accuracy: 0.97\n",
            "Epoch 34,training loss: 0.06,training accuracy: 0.98\n",
            "Epoch 34, validation loss: 0.09, validation accuracy: 0.97\n",
            "Epoch 35,training loss: 0.06,training accuracy: 0.98\n",
            "Epoch 35, validation loss: 0.09, validation accuracy: 0.97\n",
            "Epoch 36,training loss: 0.05,training accuracy: 0.98\n",
            "Epoch 36, validation loss: 0.09, validation accuracy: 0.97\n",
            "Epoch 37,training loss: 0.05,training accuracy: 0.98\n",
            "Epoch 37, validation loss: 0.09, validation accuracy: 0.97\n",
            "Epoch 38,training loss: 0.05,training accuracy: 0.98\n",
            "Epoch 38, validation loss: 0.09, validation accuracy: 0.97\n",
            "Epoch 39,training loss: 0.05,training accuracy: 0.98\n",
            "Epoch 39, validation loss: 0.09, validation accuracy: 0.97\n",
            "Epoch 40,training loss: 0.05,training accuracy: 0.99\n",
            "Epoch 40, validation loss: 0.09, validation accuracy: 0.97\n",
            "Epoch 41,training loss: 0.05,training accuracy: 0.99\n",
            "Epoch 41, validation loss: 0.09, validation accuracy: 0.97\n",
            "Epoch 42,training loss: 0.05,training accuracy: 0.99\n",
            "Epoch 42, validation loss: 0.09, validation accuracy: 0.97\n",
            "Epoch 43,training loss: 0.05,training accuracy: 0.99\n",
            "Epoch 43, validation loss: 0.09, validation accuracy: 0.97\n",
            "Epoch 44,training loss: 0.04,training accuracy: 0.99\n",
            "Epoch 44, validation loss: 0.09, validation accuracy: 0.97\n",
            "Epoch 45,training loss: 0.04,training accuracy: 0.99\n",
            "Epoch 45, validation loss: 0.09, validation accuracy: 0.97\n",
            "Epoch 46,training loss: 0.04,training accuracy: 0.99\n",
            "Epoch 46, validation loss: 0.09, validation accuracy: 0.97\n",
            "Epoch 47,training loss: 0.04,training accuracy: 0.99\n",
            "Epoch 47, validation loss: 0.08, validation accuracy: 0.97\n",
            "Epoch 48,training loss: 0.04,training accuracy: 0.99\n",
            "Epoch 48, validation loss: 0.09, validation accuracy: 0.97\n",
            "Epoch 49,training loss: 0.04,training accuracy: 0.99\n",
            "Epoch 49, validation loss: 0.09, validation accuracy: 0.97\n",
            "Epoch 50,training loss: 0.04,training accuracy: 0.99\n",
            "Epoch 50, validation loss: 0.08, validation accuracy: 0.97\n",
            "Epoch 51,training loss: 0.04,training accuracy: 0.99\n",
            "Epoch 51, validation loss: 0.09, validation accuracy: 0.97\n",
            "Epoch 52,training loss: 0.04,training accuracy: 0.99\n",
            "Epoch 52, validation loss: 0.09, validation accuracy: 0.97\n",
            "Epoch 53,training loss: 0.04,training accuracy: 0.99\n",
            "Epoch 53, validation loss: 0.09, validation accuracy: 0.97\n",
            "Epoch 54,training loss: 0.03,training accuracy: 0.99\n",
            "Epoch 54, validation loss: 0.08, validation accuracy: 0.97\n",
            "Epoch 55,training loss: 0.03,training accuracy: 0.99\n",
            "Epoch 55, validation loss: 0.09, validation accuracy: 0.97\n",
            "Epoch 56,training loss: 0.03,training accuracy: 0.99\n",
            "Epoch 56, validation loss: 0.09, validation accuracy: 0.97\n",
            "Epoch 57,training loss: 0.03,training accuracy: 0.99\n",
            "Epoch 57, validation loss: 0.09, validation accuracy: 0.97\n",
            "Epoch 58,training loss: 0.03,training accuracy: 0.99\n",
            "Epoch 58, validation loss: 0.09, validation accuracy: 0.97\n",
            "Epoch 59,training loss: 0.03,training accuracy: 0.99\n",
            "Epoch 59, validation loss: 0.09, validation accuracy: 0.97\n",
            "Epoch 60,training loss: 0.03,training accuracy: 0.99\n",
            "Epoch 60, validation loss: 0.09, validation accuracy: 0.97\n",
            "Epoch 61,training loss: 0.03,training accuracy: 0.99\n",
            "Epoch 61, validation loss: 0.09, validation accuracy: 0.97\n",
            "Epoch 62,training loss: 0.03,training accuracy: 0.99\n",
            "Epoch 62, validation loss: 0.09, validation accuracy: 0.97\n",
            "Epoch 63,training loss: 0.03,training accuracy: 0.99\n",
            "Epoch 63, validation loss: 0.09, validation accuracy: 0.97\n",
            "Epoch 64,training loss: 0.03,training accuracy: 0.99\n",
            "Epoch 64, validation loss: 0.09, validation accuracy: 0.97\n",
            "Epoch 65,training loss: 0.03,training accuracy: 0.99\n",
            "Epoch 65, validation loss: 0.09, validation accuracy: 0.97\n",
            "Epoch 66,training loss: 0.03,training accuracy: 0.99\n",
            "Epoch 66, validation loss: 0.09, validation accuracy: 0.97\n",
            "Epoch 67,training loss: 0.03,training accuracy: 0.99\n",
            "Epoch 67, validation loss: 0.09, validation accuracy: 0.97\n",
            "Epoch 68,training loss: 0.03,training accuracy: 0.99\n",
            "Epoch 68, validation loss: 0.09, validation accuracy: 0.97\n",
            "Epoch 69,training loss: 0.03,training accuracy: 0.99\n",
            "Epoch 69, validation loss: 0.09, validation accuracy: 0.97\n",
            "Epoch 70,training loss: 0.02,training accuracy: 0.99\n",
            "Epoch 70, validation loss: 0.09, validation accuracy: 0.97\n",
            "Epoch 71,training loss: 0.02,training accuracy: 0.99\n",
            "Epoch 71, validation loss: 0.09, validation accuracy: 0.97\n",
            "Epoch 72,training loss: 0.02,training accuracy: 0.99\n",
            "Epoch 72, validation loss: 0.09, validation accuracy: 0.98\n",
            "Epoch 73,training loss: 0.02,training accuracy: 0.99\n",
            "Epoch 73, validation loss: 0.09, validation accuracy: 0.97\n",
            "Epoch 74,training loss: 0.02,training accuracy: 0.99\n",
            "Epoch 74, validation loss: 0.09, validation accuracy: 0.98\n",
            "Epoch 75,training loss: 0.02,training accuracy: 0.99\n",
            "Epoch 75, validation loss: 0.09, validation accuracy: 0.97\n",
            "Epoch 76,training loss: 0.02,training accuracy: 0.99\n",
            "Epoch 76, validation loss: 0.09, validation accuracy: 0.97\n",
            "Epoch 77,training loss: 0.02,training accuracy: 0.99\n",
            "Epoch 77, validation loss: 0.09, validation accuracy: 0.97\n",
            "Epoch 78,training loss: 0.02,training accuracy: 0.99\n",
            "Epoch 78, validation loss: 0.09, validation accuracy: 0.97\n",
            "Epoch 79,training loss: 0.02,training accuracy: 0.99\n",
            "Epoch 79, validation loss: 0.09, validation accuracy: 0.97\n",
            "Epoch 80,training loss: 0.02,training accuracy: 0.99\n",
            "Epoch 80, validation loss: 0.09, validation accuracy: 0.97\n",
            "Epoch 81,training loss: 0.02,training accuracy: 0.99\n",
            "Epoch 81, validation loss: 0.09, validation accuracy: 0.97\n",
            "Epoch 82,training loss: 0.02,training accuracy: 0.99\n",
            "Epoch 82, validation loss: 0.09, validation accuracy: 0.97\n",
            "Epoch 83,training loss: 0.02,training accuracy: 0.99\n",
            "Epoch 83, validation loss: 0.09, validation accuracy: 0.97\n",
            "Epoch 84,training loss: 0.02,training accuracy: 0.99\n",
            "Epoch 84, validation loss: 0.09, validation accuracy: 0.97\n",
            "Epoch 85,training loss: 0.02,training accuracy: 1.00\n",
            "Epoch 85, validation loss: 0.09, validation accuracy: 0.98\n",
            "Epoch 86,training loss: 0.02,training accuracy: 0.99\n",
            "Epoch 86, validation loss: 0.09, validation accuracy: 0.98\n",
            "Epoch 87,training loss: 0.02,training accuracy: 1.00\n",
            "Epoch 87, validation loss: 0.09, validation accuracy: 0.98\n",
            "Epoch 88,training loss: 0.02,training accuracy: 1.00\n",
            "Epoch 88, validation loss: 0.09, validation accuracy: 0.98\n",
            "Epoch 89,training loss: 0.02,training accuracy: 1.00\n",
            "Epoch 89, validation loss: 0.09, validation accuracy: 0.98\n",
            "Epoch 90,training loss: 0.02,training accuracy: 0.99\n",
            "Epoch 90, validation loss: 0.09, validation accuracy: 0.97\n",
            "Epoch 91,training loss: 0.02,training accuracy: 1.00\n",
            "Epoch 91, validation loss: 0.09, validation accuracy: 0.98\n",
            "Epoch 92,training loss: 0.02,training accuracy: 1.00\n",
            "Epoch 92, validation loss: 0.09, validation accuracy: 0.98\n",
            "Epoch 93,training loss: 0.02,training accuracy: 1.00\n",
            "Epoch 93, validation loss: 0.09, validation accuracy: 0.97\n",
            "Epoch 94,training loss: 0.02,training accuracy: 1.00\n",
            "Epoch 94, validation loss: 0.09, validation accuracy: 0.98\n",
            "Epoch 95,training loss: 0.02,training accuracy: 1.00\n",
            "Epoch 95, validation loss: 0.09, validation accuracy: 0.97\n",
            "Epoch 96,training loss: 0.01,training accuracy: 1.00\n",
            "Epoch 96, validation loss: 0.10, validation accuracy: 0.98\n",
            "Epoch 97,training loss: 0.02,training accuracy: 1.00\n",
            "Epoch 97, validation loss: 0.09, validation accuracy: 0.97\n",
            "Epoch 98,training loss: 0.01,training accuracy: 1.00\n",
            "Epoch 98, validation loss: 0.09, validation accuracy: 0.97\n",
            "Epoch 99,training loss: 0.01,training accuracy: 1.00\n",
            "Epoch 99, validation loss: 0.09, validation accuracy: 0.97\n",
            "Epoch 100,training loss: 0.01,training accuracy: 1.00\n",
            "Epoch 100, validation loss: 0.10, validation accuracy: 0.97\n"
          ]
        }
      ]
    },
    {
      "cell_type": "markdown",
      "metadata": {
        "id": "o4u_aoOGUDVm"
      },
      "source": [
        "Training ve validation loss grafiği"
      ]
    },
    {
      "cell_type": "code",
      "metadata": {
        "colab": {
          "base_uri": "https://localhost:8080/",
          "height": 295
        },
        "id": "f5O6OYnjp_N8",
        "outputId": "d3965765-4ce0-4c6a-b667-2bdb940142ae"
      },
      "source": [
        "epochs = range(1,101)\n",
        "plt.plot(epochs, train_loss, 'g', label='Training loss')\n",
        "plt.plot(epochs, val_loss, 'b', label='validation loss')\n",
        "plt.title('Training and Validation loss')\n",
        "plt.xlabel('Epochs')\n",
        "plt.ylabel('Loss')\n",
        "plt.legend()\n",
        "plt.show()"
      ],
      "execution_count": 7,
      "outputs": [
        {
          "output_type": "display_data",
          "data": {
            "image/png": "[encoded data removed]",
            "text/plain": [
              "<Figure size 432x288 with 1 Axes>"
            ]
          },
          "metadata": {
            "needs_background": "light"
          }
        }
      ]
    },
    {
      "cell_type": "markdown",
      "metadata": {
        "id": "2DQpJpmZUMe-"
      },
      "source": [
        "Training ve validation accuracy grafiği"
      ]
    },
    {
      "cell_type": "code",
      "metadata": {
        "colab": {
          "base_uri": "https://localhost:8080/",
          "height": 295
        },
        "id": "ob3jOZwsvKXh",
        "outputId": "aa25679a-c185-41df-f02c-8564e754e213"
      },
      "source": [
        "epochs = range(1,101)\n",
        "plt.plot(epochs, train_acc, 'g', label='Training accuracy')\n",
        "plt.plot(epochs, val_acc, 'b', label='validation accuracy')\n",
        "plt.title('Training and Validation accuracy')\n",
        "plt.xlabel('Epochs')\n",
        "plt.ylabel('Accuracy Score')\n",
        "plt.legend()\n",
        "plt.show()"
      ],
      "execution_count": 8,
      "outputs": [
        {
          "output_type": "display_data",
          "data": {
            "image/png": "[encoded data removed]",
            "text/plain": [
              "<Figure size 432x288 with 1 Axes>"
            ]
          },
          "metadata": {
            "needs_background": "light"
          }
        }
      ]
    },
    {
      "cell_type": "markdown",
      "metadata": {
        "id": "UWGzAMs1UgsR"
      },
      "source": [
        "# SVM modeli ile karşılaştırmak gerekirse, önceki ödevde oluşturduğumuz tablodan yararlanabiliriz. \n",
        " \\begin{array}{|c|c|c|}\n",
        "\\hline \n",
        "Method  & MNIST & CIFAR \\;10  \\\\\n",
        "\\hline\n",
        "\\text{LogRegression  without Regularization} & \\%90.04 & \\%37.24  \\\\\n",
        "\\hline\n",
        "\\text{LogRegression  with Regularization*} & \\%76.12 & \\%20.36  \\\\\n",
        "\\hline\n",
        "\\text{LogRegression  with Momentum**} & \\%91.01 & \\%35.73  \\\\\n",
        "\\hline\n",
        "\\text{LogRegression  with Nesterov Momentum} & \\%91.32 & \\%31.17  \\\\\n",
        "\\hline\n",
        "\\text{LogRegression  with ADAGRAD} & \\%90.59 & \\%35.97  \\\\\n",
        "\\hline\n",
        "\\text{LogRegression  with RMSProp} & \\%87.87 & \\%10.5  \\\\\n",
        "\\hline\n",
        "\\text{LogRegression  with ADAM} & \\%92.06 & \\%23.03  \\\\\n",
        "\\hline\n",
        "\\text{SVM without regularization} & \\%90.94 & \\%23.03  \\\\\n",
        "\\hline\n",
        "\\text{SVM with regularization*} & \\%48.9 & \\%12.14  \\\\\n",
        "\\hline\n",
        "\\text{SVM with RBF Kernel (Scikit Learn)} & \\%97.02   \\\\\n",
        "\\hline\n",
        "\\end{array}\n",
        "\n",
        "# Görülebilir ki MLP ile elde ettiğimiz accuracy (%97), ortalama bir SVM modeline kıyasla çok daha accurate."
      ]
    }
  ]
}