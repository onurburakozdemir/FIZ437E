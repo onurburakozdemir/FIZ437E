{
  "nbformat": 4,
  "nbformat_minor": 0,
  "metadata": {
    "colab": {
      "name": "HW4_CNN.ipynb",
      "provenance": [],
      "include_colab_link": true
    },
    "kernelspec": {
      "name": "python3",
      "display_name": "Python 3"
    },
    "language_info": {
      "name": "python"
    },
    "accelerator": "GPU"
  },
  "cells": [
    {
      "cell_type": "markdown",
      "metadata": {
        "id": "view-in-github",
        "colab_type": "text"
      },
      "source": [
        "<a href=\"https://colab.research.google.com/github/onurburakozdemir/FIZ437E/blob/main/HW4/HW4_CNN.ipynb\" target=\"_parent\"><img src=\"https://colab.research.google.com/assets/colab-badge.svg\" alt=\"Open In Colab\"/></a>"
      ]
    },
    {
      "cell_type": "markdown",
      "source": [
        "### Import Modules"
      ],
      "metadata": {
        "id": "V9kCeeBOYGMi"
      }
    },
    {
      "cell_type": "code",
      "execution_count": null,
      "metadata": {
        "colab": {
          "base_uri": "https://localhost:8080/"
        },
        "id": "oHOlef6IX9ai",
        "outputId": "268d59ed-4ae6-4d98-8ee5-0011459ed29f"
      },
      "outputs": [
        {
          "output_type": "stream",
          "name": "stdout",
          "text": [
            "Using: cuda\n"
          ]
        }
      ],
      "source": [
        "import os\n",
        "import numpy as np\n",
        "import pandas as pd\n",
        "from PIL import Image\n",
        "from time import time\n",
        "from matplotlib import pyplot as plt\n",
        "from IPython.display import display\n",
        "import torch\n",
        "import torch.nn as nn\n",
        "import torch.nn.functional as F\n",
        "import torch.optim as optim\n",
        "import torchvision\n",
        "import torchvision.transforms as transforms\n",
        "\n",
        "from torchsummary import summary\n",
        "device = torch.device('cuda' if torch.cuda.is_available() else 'cpu')\n",
        "print('Using:', device)"
      ]
    },
    {
      "cell_type": "markdown",
      "source": [
        "### Import Data"
      ],
      "metadata": {
        "id": "Y4CfefZkYONi"
      }
    },
    {
      "cell_type": "code",
      "source": [
        "dataset_path = 'drive/MyDrive/img_data'\n",
        "\n",
        "mean = torch.tensor([0.485, 0.456, 0.406], dtype=torch.float32)\n",
        "std = torch.tensor([0.229, 0.224, 0.225], dtype=torch.float32)\n",
        "\n",
        "transform = transforms.Compose([\n",
        "  transforms.RandomRotation(5),\n",
        "  transforms.Resize(256),\n",
        "  transforms.RandomCrop(256, padding=5),\n",
        "\n",
        "  transforms.ToTensor(),\n",
        "  transforms.Normalize(mean=mean, std=std)\n",
        "])\n",
        "\n",
        "dataset = torchvision.datasets.ImageFolder(dataset_path, transform=transform)\n",
        "\n",
        "len_train = round(len(dataset)*0.8)\n",
        "len_test = len(dataset) - len_train\n",
        "\n",
        "train_dataset, test_dataset = torch.utils.data.random_split(dataset, (len_train, len_test))\n",
        "\n",
        "train_dataloader = torch.utils.data.DataLoader(\n",
        "    dataset=train_dataset,\n",
        "    batch_size=16,\n",
        "    shuffle=False,\n",
        ")\n",
        "\n",
        "test_dataloader = torch.utils.data.DataLoader(\n",
        "    dataset=test_dataset,\n",
        "    batch_size=16,\n",
        "    shuffle=False,\n",
        ")"
      ],
      "metadata": {
        "id": "Eqy8w3LAYOja"
      },
      "execution_count": null,
      "outputs": []
    },
    {
      "cell_type": "markdown",
      "source": [
        "### Define CNN Model"
      ],
      "metadata": {
        "id": "3FHrhaoTYRbZ"
      }
    },
    {
      "cell_type": "code",
      "source": [
        "class MyModel(nn.Module):\n",
        "    def __init__(self):\n",
        "        super(MyModel, self).__init__()\n",
        "        \n",
        "        self.model = nn.Sequential(\n",
        "            nn.Conv2d(3, 16, kernel_size=3), nn.ReLU(),\n",
        "            nn.Conv2d(16, 16, kernel_size=3), nn.ReLU(),\n",
        "            nn.MaxPool2d(2,2),\n",
        "\n",
        "            nn.Conv2d(16, 32, kernel_size=3), nn.ReLU(),\n",
        "            nn.Conv2d(32, 32, kernel_size=3), nn.ReLU(),\n",
        "            nn.MaxPool2d(2,2),\n",
        "\n",
        "            nn.Conv2d(32, 64, kernel_size=3), nn.ReLU(),\n",
        "            nn.Conv2d(64, 64, kernel_size=3), nn.ReLU(),\n",
        "            nn.MaxPool2d(2,2),\n",
        "\n",
        "            nn.Conv2d(64, 128, kernel_size=3), nn.ReLU(),\n",
        "            nn.Conv2d(128, 128, kernel_size=3), nn.ReLU(),\n",
        "            nn.MaxPool2d(2,2),\n",
        "\n",
        "            nn.Conv2d(128, 256, kernel_size=3), nn.ReLU(),\n",
        "            nn.Conv2d(256, 256, kernel_size=3), nn.ReLU(),\n",
        "            nn.MaxPool2d(2,2),\n",
        "\n",
        "        ).to(device)\n",
        "        \n",
        "        self.classifier = nn.Sequential(\n",
        "            nn.Flatten(),\n",
        "            nn.Dropout(0.25),\n",
        "            nn.Linear(4096, 256),\n",
        "            nn.ReLU(),\n",
        "\n",
        "            nn.Dropout(0.5),\n",
        "            nn.Linear(256, 3)\n",
        "        ).to(device)\n",
        "        \n",
        "    def forward(self, x):\n",
        "        x = self.model(x)\n",
        "        x = self.classifier(x)\n",
        "        return x\n",
        "\n",
        "\n",
        "CNN_model = MyModel().to(device)\n",
        "summary(CNN_model, (3,256,256))"
      ],
      "metadata": {
        "colab": {
          "base_uri": "https://localhost:8080/"
        },
        "id": "vFZv9YPRYSGz",
        "outputId": "f978fcf6-bc84-4e14-cd89-28d318af628e"
      },
      "execution_count": null,
      "outputs": [
        {
          "output_type": "stream",
          "name": "stdout",
          "text": [
            "----------------------------------------------------------------\n",
            "        Layer (type)               Output Shape         Param #\n",
            "================================================================\n",
            "            Conv2d-1         [-1, 16, 254, 254]             448\n",
            "              ReLU-2         [-1, 16, 254, 254]               0\n",
            "            Conv2d-3         [-1, 16, 252, 252]           2,320\n",
            "              ReLU-4         [-1, 16, 252, 252]               0\n",
            "         MaxPool2d-5         [-1, 16, 126, 126]               0\n",
            "            Conv2d-6         [-1, 32, 124, 124]           4,640\n",
            "              ReLU-7         [-1, 32, 124, 124]               0\n",
            "            Conv2d-8         [-1, 32, 122, 122]           9,248\n",
            "              ReLU-9         [-1, 32, 122, 122]               0\n",
            "        MaxPool2d-10           [-1, 32, 61, 61]               0\n",
            "           Conv2d-11           [-1, 64, 59, 59]          18,496\n",
            "             ReLU-12           [-1, 64, 59, 59]               0\n",
            "           Conv2d-13           [-1, 64, 57, 57]          36,928\n",
            "             ReLU-14           [-1, 64, 57, 57]               0\n",
            "        MaxPool2d-15           [-1, 64, 28, 28]               0\n",
            "           Conv2d-16          [-1, 128, 26, 26]          73,856\n",
            "             ReLU-17          [-1, 128, 26, 26]               0\n",
            "           Conv2d-18          [-1, 128, 24, 24]         147,584\n",
            "             ReLU-19          [-1, 128, 24, 24]               0\n",
            "        MaxPool2d-20          [-1, 128, 12, 12]               0\n",
            "           Conv2d-21          [-1, 256, 10, 10]         295,168\n",
            "             ReLU-22          [-1, 256, 10, 10]               0\n",
            "           Conv2d-23            [-1, 256, 8, 8]         590,080\n",
            "             ReLU-24            [-1, 256, 8, 8]               0\n",
            "        MaxPool2d-25            [-1, 256, 4, 4]               0\n",
            "          Flatten-26                 [-1, 4096]               0\n",
            "          Dropout-27                 [-1, 4096]               0\n",
            "           Linear-28                  [-1, 256]       1,048,832\n",
            "             ReLU-29                  [-1, 256]               0\n",
            "          Dropout-30                  [-1, 256]               0\n",
            "           Linear-31                    [-1, 3]             771\n",
            "================================================================\n",
            "Total params: 2,228,371\n",
            "Trainable params: 2,228,371\n",
            "Non-trainable params: 0\n",
            "----------------------------------------------------------------\n",
            "Input size (MB): 0.75\n",
            "Forward/backward pass size (MB): 59.16\n",
            "Params size (MB): 8.50\n",
            "Estimated Total Size (MB): 68.41\n",
            "----------------------------------------------------------------\n"
          ]
        }
      ]
    },
    {
      "cell_type": "markdown",
      "source": [
        "### CNN Train Function"
      ],
      "metadata": {
        "id": "gpqDJHhFYVMV"
      }
    },
    {
      "cell_type": "code",
      "source": [
        "def CNN_Train(epoch, print_every=50):\n",
        "    total_loss = 0\n",
        "    start_time = time()\n",
        "    \n",
        "    accuracy = []\n",
        "    \n",
        "    for i, batch in enumerate(train_dataloader, 1):\n",
        "        minput = batch[0].to(device) \n",
        "        target = batch[1].to(device) \n",
        "        \n",
        "        moutput = CNN_model(minput) \n",
        "        \n",
        "        loss = CNN_criterion(moutput, target) \n",
        "        total_loss += loss.item()\n",
        "\n",
        "        CNN_optimizer.zero_grad() \n",
        "        loss.backward() \n",
        "        CNN_optimizer.step() \n",
        "        \n",
        "        argmax = moutput.argmax(dim=1) \n",
        "        accuracy.append((target==argmax).sum().item() / target.shape[0])\n",
        "\n",
        "        if i%print_every == 0:\n",
        "            print('Epoch: [{}]/({}/{}), Train Loss: {:.4f}, Accuracy: {:.2f}, Time: {:.2f} sec'.format(\n",
        "                epoch, i, len(train_dataloader), loss.item(), sum(accuracy)/len(accuracy), time()-start_time \n",
        "            ))\n",
        "    \n",
        "    return total_loss / len(train_dataloader) , sum(accuracy)/len(accuracy)"
      ],
      "metadata": {
        "id": "tG3FMSeGYd-2"
      },
      "execution_count": null,
      "outputs": []
    },
    {
      "cell_type": "markdown",
      "source": [
        "### CNN Test Function"
      ],
      "metadata": {
        "id": "v_M-cBcmYgho"
      }
    },
    {
      "cell_type": "code",
      "source": [
        "def CNN_Test(epoch):\n",
        "    total_loss = 0\n",
        "    start_time = time()\n",
        "\n",
        "    accuracy = []\n",
        "    \n",
        "    with torch.no_grad(): \n",
        "        for i, batch in enumerate(test_dataloader):\n",
        "            minput = batch[0].to(device) \n",
        "            target = batch[1].to(device) \n",
        "            moutput = CNN_model(minput) \n",
        "\n",
        "            loss = CNN_criterion(moutput, target) \n",
        "            total_loss += loss.item()\n",
        "            \n",
        "            \n",
        "            argmax = moutput.argmax(dim=1) \n",
        "            accuracy.append((target==argmax).sum().item() / target.shape[0]) \n",
        "            \n",
        "    print('Epoch: [{}], Test Loss: {:.4f}, Accuracy: {:.2f}, Time: {:.2f} sec'.format(\n",
        "        epoch, total_loss/len(test_dataloader), sum(accuracy)/len(accuracy), time()-start_time\n",
        "    ))\n",
        "    return total_loss/len(test_dataloader), sum(accuracy)/len(accuracy) "
      ],
      "metadata": {
        "id": "-TaxPhR3YjMe"
      },
      "execution_count": null,
      "outputs": []
    },
    {
      "cell_type": "markdown",
      "source": [
        "### Train Model"
      ],
      "metadata": {
        "id": "9DJt3nGVYl7V"
      }
    },
    {
      "cell_type": "code",
      "source": [
        "lr = 0.0001\n",
        "CNN_model = MyModel().to(device)\n",
        "\n",
        "CNN_optimizer = optim.Adam(CNN_model.parameters(), lr=lr)\n",
        "CNN_criterion = nn.CrossEntropyLoss()"
      ],
      "metadata": {
        "id": "6mVpzvRAYo29"
      },
      "execution_count": null,
      "outputs": []
    },
    {
      "cell_type": "code",
      "source": [
        "CNN_Test(0)"
      ],
      "metadata": {
        "colab": {
          "base_uri": "https://localhost:8080/"
        },
        "id": "QvXISZrgYr-L",
        "outputId": "28a7955b-1c16-4da0-ff70-301db8e03a9b"
      },
      "execution_count": null,
      "outputs": [
        {
          "output_type": "stream",
          "name": "stdout",
          "text": [
            "Epoch: [0], Test Loss: 1.1026, Accuracy: 0.30, Time: 204.88 sec\n"
          ]
        },
        {
          "output_type": "execute_result",
          "data": {
            "text/plain": [
              "(1.1026473513132409, 0.30198915009041594)"
            ]
          },
          "metadata": {},
          "execution_count": 9
        }
      ]
    },
    {
      "cell_type": "code",
      "source": [
        "cnn_train_loss = []\n",
        "cnn_test_loss = []\n",
        "cnn_acc_train = []\n",
        "cnn_acc_test = []\n",
        "\n",
        "for epoch in range(1, 41):\n",
        "    cnn_train_res = CNN_Train(epoch,79)\n",
        "    cnn_train_loss.append(cnn_train_res[0])\n",
        "    cnn_acc_train.append(cnn_train_res[1])\n",
        "\n",
        "    cnn_test_res = CNN_Test(epoch)\n",
        "    cnn_test_loss.append(cnn_test_res[0])\n",
        "    cnn_acc_test.append(cnn_test_res[1])\n",
        "\n",
        "    print('\\n')\n",
        "    \n",
        "    if epoch % 10 == 0:\n",
        "        torch.save(CNN_model, 'model_'+str(epoch)+'.pth')"
      ],
      "metadata": {
        "colab": {
          "base_uri": "https://localhost:8080/"
        },
        "id": "lvtkm3GzYuA1",
        "outputId": "a7a1d19f-57c9-494d-fc50-9f200c14b57f"
      },
      "execution_count": null,
      "outputs": [
        {
          "output_type": "stream",
          "name": "stdout",
          "text": [
            "Epoch: [1]/(79/316), Train Loss: 1.1006, Accuracy: 0.38, Time: 173.88 sec\n",
            "Epoch: [1]/(158/316), Train Loss: 1.0933, Accuracy: 0.40, Time: 347.38 sec\n",
            "Epoch: [1]/(237/316), Train Loss: 1.0723, Accuracy: 0.41, Time: 515.36 sec\n",
            "Epoch: [1]/(316/316), Train Loss: 0.9466, Accuracy: 0.43, Time: 689.37 sec\n",
            "Epoch: [1], Test Loss: 1.0083, Accuracy: 0.51, Time: 13.08 sec\n",
            "\n",
            "\n",
            "Epoch: [2]/(79/316), Train Loss: 0.9122, Accuracy: 0.52, Time: 18.90 sec\n",
            "Epoch: [2]/(158/316), Train Loss: 1.0455, Accuracy: 0.52, Time: 37.66 sec\n",
            "Epoch: [2]/(237/316), Train Loss: 0.9866, Accuracy: 0.52, Time: 56.77 sec\n",
            "Epoch: [2]/(316/316), Train Loss: 0.7485, Accuracy: 0.53, Time: 75.44 sec\n",
            "Epoch: [2], Test Loss: 0.9574, Accuracy: 0.53, Time: 13.90 sec\n",
            "\n",
            "\n",
            "Epoch: [3]/(79/316), Train Loss: 0.6929, Accuracy: 0.55, Time: 18.79 sec\n",
            "Epoch: [3]/(158/316), Train Loss: 1.0256, Accuracy: 0.55, Time: 37.48 sec\n",
            "Epoch: [3]/(237/316), Train Loss: 0.9676, Accuracy: 0.54, Time: 56.25 sec\n",
            "Epoch: [3]/(316/316), Train Loss: 0.7511, Accuracy: 0.55, Time: 74.81 sec\n",
            "Epoch: [3], Test Loss: 0.9033, Accuracy: 0.55, Time: 14.03 sec\n",
            "\n",
            "\n",
            "Epoch: [4]/(79/316), Train Loss: 0.6956, Accuracy: 0.58, Time: 18.91 sec\n",
            "Epoch: [4]/(158/316), Train Loss: 0.9425, Accuracy: 0.56, Time: 37.76 sec\n",
            "Epoch: [4]/(237/316), Train Loss: 1.0252, Accuracy: 0.56, Time: 56.42 sec\n",
            "Epoch: [4]/(316/316), Train Loss: 0.5692, Accuracy: 0.57, Time: 75.05 sec\n",
            "Epoch: [4], Test Loss: 0.8859, Accuracy: 0.57, Time: 13.97 sec\n",
            "\n",
            "\n",
            "Epoch: [5]/(79/316), Train Loss: 0.6068, Accuracy: 0.60, Time: 18.69 sec\n",
            "Epoch: [5]/(158/316), Train Loss: 0.8986, Accuracy: 0.58, Time: 37.45 sec\n",
            "Epoch: [5]/(237/316), Train Loss: 1.0003, Accuracy: 0.59, Time: 56.55 sec\n",
            "Epoch: [5]/(316/316), Train Loss: 0.7199, Accuracy: 0.59, Time: 75.44 sec\n",
            "Epoch: [5], Test Loss: 0.8767, Accuracy: 0.57, Time: 14.36 sec\n",
            "\n",
            "\n",
            "Epoch: [6]/(79/316), Train Loss: 0.8242, Accuracy: 0.60, Time: 19.02 sec\n",
            "Epoch: [6]/(158/316), Train Loss: 0.9690, Accuracy: 0.60, Time: 37.83 sec\n",
            "Epoch: [6]/(237/316), Train Loss: 1.0523, Accuracy: 0.59, Time: 56.95 sec\n",
            "Epoch: [6]/(316/316), Train Loss: 0.5687, Accuracy: 0.59, Time: 75.68 sec\n",
            "Epoch: [6], Test Loss: 0.8559, Accuracy: 0.59, Time: 13.95 sec\n",
            "\n",
            "\n",
            "Epoch: [7]/(79/316), Train Loss: 0.8268, Accuracy: 0.62, Time: 18.92 sec\n",
            "Epoch: [7]/(158/316), Train Loss: 0.8340, Accuracy: 0.60, Time: 37.84 sec\n",
            "Epoch: [7]/(237/316), Train Loss: 0.9939, Accuracy: 0.60, Time: 56.84 sec\n",
            "Epoch: [7]/(316/316), Train Loss: 0.6202, Accuracy: 0.60, Time: 75.52 sec\n",
            "Epoch: [7], Test Loss: 0.8435, Accuracy: 0.59, Time: 13.89 sec\n",
            "\n",
            "\n",
            "Epoch: [8]/(79/316), Train Loss: 0.6095, Accuracy: 0.62, Time: 18.93 sec\n",
            "Epoch: [8]/(158/316), Train Loss: 0.8941, Accuracy: 0.61, Time: 37.71 sec\n",
            "Epoch: [8]/(237/316), Train Loss: 1.0652, Accuracy: 0.61, Time: 56.49 sec\n",
            "Epoch: [8]/(316/316), Train Loss: 0.6436, Accuracy: 0.62, Time: 75.21 sec\n",
            "Epoch: [8], Test Loss: 0.8292, Accuracy: 0.60, Time: 13.72 sec\n",
            "\n",
            "\n",
            "Epoch: [9]/(79/316), Train Loss: 0.6716, Accuracy: 0.62, Time: 18.90 sec\n",
            "Epoch: [9]/(158/316), Train Loss: 0.8115, Accuracy: 0.62, Time: 37.71 sec\n",
            "Epoch: [9]/(237/316), Train Loss: 0.8052, Accuracy: 0.62, Time: 56.57 sec\n",
            "Epoch: [9]/(316/316), Train Loss: 0.6629, Accuracy: 0.62, Time: 75.15 sec\n",
            "Epoch: [9], Test Loss: 0.8274, Accuracy: 0.62, Time: 14.01 sec\n",
            "\n",
            "\n",
            "Epoch: [10]/(79/316), Train Loss: 0.6266, Accuracy: 0.65, Time: 18.87 sec\n",
            "Epoch: [10]/(158/316), Train Loss: 0.7582, Accuracy: 0.64, Time: 37.62 sec\n",
            "Epoch: [10]/(237/316), Train Loss: 0.9081, Accuracy: 0.63, Time: 56.26 sec\n",
            "Epoch: [10]/(316/316), Train Loss: 0.5546, Accuracy: 0.64, Time: 74.97 sec\n",
            "Epoch: [10], Test Loss: 0.7956, Accuracy: 0.63, Time: 13.97 sec\n",
            "\n",
            "\n",
            "Epoch: [11]/(79/316), Train Loss: 0.5562, Accuracy: 0.66, Time: 18.93 sec\n",
            "Epoch: [11]/(158/316), Train Loss: 0.8205, Accuracy: 0.65, Time: 37.64 sec\n",
            "Epoch: [11]/(237/316), Train Loss: 0.8723, Accuracy: 0.65, Time: 56.42 sec\n",
            "Epoch: [11]/(316/316), Train Loss: 0.4325, Accuracy: 0.65, Time: 75.06 sec\n",
            "Epoch: [11], Test Loss: 0.7860, Accuracy: 0.64, Time: 13.85 sec\n",
            "\n",
            "\n",
            "Epoch: [12]/(79/316), Train Loss: 0.5974, Accuracy: 0.67, Time: 18.98 sec\n",
            "Epoch: [12]/(158/316), Train Loss: 0.7344, Accuracy: 0.66, Time: 37.66 sec\n",
            "Epoch: [12]/(237/316), Train Loss: 0.7022, Accuracy: 0.66, Time: 56.46 sec\n",
            "Epoch: [12]/(316/316), Train Loss: 0.3228, Accuracy: 0.66, Time: 75.22 sec\n",
            "Epoch: [12], Test Loss: 0.7686, Accuracy: 0.64, Time: 14.11 sec\n",
            "\n",
            "\n",
            "Epoch: [13]/(79/316), Train Loss: 0.6333, Accuracy: 0.69, Time: 18.80 sec\n",
            "Epoch: [13]/(158/316), Train Loss: 0.7648, Accuracy: 0.67, Time: 37.49 sec\n",
            "Epoch: [13]/(237/316), Train Loss: 0.9917, Accuracy: 0.67, Time: 56.26 sec\n",
            "Epoch: [13]/(316/316), Train Loss: 0.5648, Accuracy: 0.67, Time: 74.93 sec\n",
            "Epoch: [13], Test Loss: 0.7485, Accuracy: 0.66, Time: 13.78 sec\n",
            "\n",
            "\n",
            "Epoch: [14]/(79/316), Train Loss: 0.5877, Accuracy: 0.69, Time: 18.86 sec\n",
            "Epoch: [14]/(158/316), Train Loss: 0.9200, Accuracy: 0.69, Time: 37.45 sec\n",
            "Epoch: [14]/(237/316), Train Loss: 0.7275, Accuracy: 0.69, Time: 56.29 sec\n",
            "Epoch: [14]/(316/316), Train Loss: 0.4531, Accuracy: 0.69, Time: 75.07 sec\n",
            "Epoch: [14], Test Loss: 0.7239, Accuracy: 0.68, Time: 13.75 sec\n",
            "\n",
            "\n",
            "Epoch: [15]/(79/316), Train Loss: 0.5339, Accuracy: 0.71, Time: 18.83 sec\n",
            "Epoch: [15]/(158/316), Train Loss: 1.0453, Accuracy: 0.71, Time: 37.63 sec\n",
            "Epoch: [15]/(237/316), Train Loss: 0.8207, Accuracy: 0.70, Time: 56.53 sec\n",
            "Epoch: [15]/(316/316), Train Loss: 0.4503, Accuracy: 0.70, Time: 75.04 sec\n",
            "Epoch: [15], Test Loss: 0.7145, Accuracy: 0.68, Time: 13.92 sec\n",
            "\n",
            "\n",
            "Epoch: [16]/(79/316), Train Loss: 0.5148, Accuracy: 0.72, Time: 19.03 sec\n",
            "Epoch: [16]/(158/316), Train Loss: 0.8294, Accuracy: 0.72, Time: 38.14 sec\n",
            "Epoch: [16]/(237/316), Train Loss: 0.6469, Accuracy: 0.72, Time: 56.91 sec\n",
            "Epoch: [16]/(316/316), Train Loss: 0.4832, Accuracy: 0.71, Time: 75.60 sec\n",
            "Epoch: [16], Test Loss: 0.6932, Accuracy: 0.70, Time: 13.68 sec\n",
            "\n",
            "\n",
            "Epoch: [17]/(79/316), Train Loss: 0.4251, Accuracy: 0.72, Time: 18.76 sec\n",
            "Epoch: [17]/(158/316), Train Loss: 0.9379, Accuracy: 0.72, Time: 37.34 sec\n",
            "Epoch: [17]/(237/316), Train Loss: 0.7044, Accuracy: 0.72, Time: 55.92 sec\n",
            "Epoch: [17]/(316/316), Train Loss: 0.4688, Accuracy: 0.72, Time: 74.34 sec\n",
            "Epoch: [17], Test Loss: 0.6953, Accuracy: 0.69, Time: 13.86 sec\n",
            "\n",
            "\n",
            "Epoch: [18]/(79/316), Train Loss: 0.6432, Accuracy: 0.73, Time: 18.82 sec\n",
            "Epoch: [18]/(158/316), Train Loss: 0.5864, Accuracy: 0.74, Time: 37.56 sec\n",
            "Epoch: [18]/(237/316), Train Loss: 0.6846, Accuracy: 0.73, Time: 56.29 sec\n",
            "Epoch: [18]/(316/316), Train Loss: 0.3857, Accuracy: 0.73, Time: 74.85 sec\n",
            "Epoch: [18], Test Loss: 0.6695, Accuracy: 0.71, Time: 13.95 sec\n",
            "\n",
            "\n",
            "Epoch: [19]/(79/316), Train Loss: 0.6236, Accuracy: 0.75, Time: 18.85 sec\n",
            "Epoch: [19]/(158/316), Train Loss: 0.6400, Accuracy: 0.74, Time: 37.53 sec\n",
            "Epoch: [19]/(237/316), Train Loss: 0.7225, Accuracy: 0.74, Time: 56.39 sec\n",
            "Epoch: [19]/(316/316), Train Loss: 0.4927, Accuracy: 0.73, Time: 75.29 sec\n",
            "Epoch: [19], Test Loss: 0.6840, Accuracy: 0.69, Time: 14.01 sec\n",
            "\n",
            "\n",
            "Epoch: [20]/(79/316), Train Loss: 0.5454, Accuracy: 0.76, Time: 19.07 sec\n",
            "Epoch: [20]/(158/316), Train Loss: 0.9229, Accuracy: 0.77, Time: 37.90 sec\n",
            "Epoch: [20]/(237/316), Train Loss: 0.7252, Accuracy: 0.76, Time: 56.83 sec\n",
            "Epoch: [20]/(316/316), Train Loss: 0.3433, Accuracy: 0.75, Time: 75.54 sec\n",
            "Epoch: [20], Test Loss: 0.6504, Accuracy: 0.71, Time: 14.09 sec\n",
            "\n",
            "\n",
            "Epoch: [21]/(79/316), Train Loss: 0.4865, Accuracy: 0.76, Time: 19.02 sec\n",
            "Epoch: [21]/(158/316), Train Loss: 0.6282, Accuracy: 0.75, Time: 37.75 sec\n",
            "Epoch: [21]/(237/316), Train Loss: 0.5972, Accuracy: 0.75, Time: 56.66 sec\n",
            "Epoch: [21]/(316/316), Train Loss: 0.3945, Accuracy: 0.75, Time: 75.42 sec\n",
            "Epoch: [21], Test Loss: 0.6334, Accuracy: 0.73, Time: 13.90 sec\n",
            "\n",
            "\n",
            "Epoch: [22]/(79/316), Train Loss: 0.4455, Accuracy: 0.76, Time: 19.05 sec\n",
            "Epoch: [22]/(158/316), Train Loss: 0.7490, Accuracy: 0.76, Time: 37.91 sec\n",
            "Epoch: [22]/(237/316), Train Loss: 0.6716, Accuracy: 0.76, Time: 56.91 sec\n",
            "Epoch: [22]/(316/316), Train Loss: 0.5712, Accuracy: 0.76, Time: 75.77 sec\n",
            "Epoch: [22], Test Loss: 0.6148, Accuracy: 0.74, Time: 14.12 sec\n",
            "\n",
            "\n",
            "Epoch: [23]/(79/316), Train Loss: 0.4074, Accuracy: 0.77, Time: 18.99 sec\n",
            "Epoch: [23]/(158/316), Train Loss: 0.5817, Accuracy: 0.77, Time: 37.95 sec\n",
            "Epoch: [23]/(237/316), Train Loss: 0.5823, Accuracy: 0.77, Time: 57.01 sec\n",
            "Epoch: [23]/(316/316), Train Loss: 0.2831, Accuracy: 0.77, Time: 75.61 sec\n",
            "Epoch: [23], Test Loss: 0.6481, Accuracy: 0.72, Time: 14.10 sec\n",
            "\n",
            "\n",
            "Epoch: [24]/(79/316), Train Loss: 0.5746, Accuracy: 0.78, Time: 18.86 sec\n",
            "Epoch: [24]/(158/316), Train Loss: 0.6438, Accuracy: 0.78, Time: 37.49 sec\n",
            "Epoch: [24]/(237/316), Train Loss: 0.6469, Accuracy: 0.77, Time: 56.18 sec\n",
            "Epoch: [24]/(316/316), Train Loss: 0.2708, Accuracy: 0.77, Time: 74.84 sec\n",
            "Epoch: [24], Test Loss: 0.6248, Accuracy: 0.72, Time: 13.97 sec\n",
            "\n",
            "\n",
            "Epoch: [25]/(79/316), Train Loss: 0.5359, Accuracy: 0.79, Time: 19.04 sec\n",
            "Epoch: [25]/(158/316), Train Loss: 0.5813, Accuracy: 0.79, Time: 37.72 sec\n",
            "Epoch: [25]/(237/316), Train Loss: 0.6531, Accuracy: 0.79, Time: 56.69 sec\n",
            "Epoch: [25]/(316/316), Train Loss: 0.4814, Accuracy: 0.78, Time: 75.38 sec\n",
            "Epoch: [25], Test Loss: 0.6166, Accuracy: 0.74, Time: 13.94 sec\n",
            "\n",
            "\n",
            "Epoch: [26]/(79/316), Train Loss: 0.4962, Accuracy: 0.79, Time: 18.96 sec\n",
            "Epoch: [26]/(158/316), Train Loss: 0.5211, Accuracy: 0.80, Time: 37.65 sec\n",
            "Epoch: [26]/(237/316), Train Loss: 0.6492, Accuracy: 0.79, Time: 56.50 sec\n",
            "Epoch: [26]/(316/316), Train Loss: 0.3524, Accuracy: 0.78, Time: 75.37 sec\n",
            "Epoch: [26], Test Loss: 0.6044, Accuracy: 0.75, Time: 14.06 sec\n",
            "\n",
            "\n",
            "Epoch: [27]/(79/316), Train Loss: 0.5223, Accuracy: 0.79, Time: 18.76 sec\n",
            "Epoch: [27]/(158/316), Train Loss: 0.3766, Accuracy: 0.79, Time: 37.53 sec\n",
            "Epoch: [27]/(237/316), Train Loss: 0.5238, Accuracy: 0.79, Time: 56.33 sec\n",
            "Epoch: [27]/(316/316), Train Loss: 0.2926, Accuracy: 0.78, Time: 75.08 sec\n",
            "Epoch: [27], Test Loss: 0.6104, Accuracy: 0.74, Time: 13.82 sec\n",
            "\n",
            "\n",
            "Epoch: [28]/(79/316), Train Loss: 0.4156, Accuracy: 0.80, Time: 19.06 sec\n",
            "Epoch: [28]/(158/316), Train Loss: 0.4185, Accuracy: 0.80, Time: 37.86 sec\n",
            "Epoch: [28]/(237/316), Train Loss: 0.4805, Accuracy: 0.79, Time: 56.70 sec\n",
            "Epoch: [28]/(316/316), Train Loss: 0.3411, Accuracy: 0.79, Time: 75.43 sec\n",
            "Epoch: [28], Test Loss: 0.5863, Accuracy: 0.75, Time: 13.68 sec\n",
            "\n",
            "\n",
            "Epoch: [29]/(79/316), Train Loss: 0.3024, Accuracy: 0.81, Time: 18.85 sec\n",
            "Epoch: [29]/(158/316), Train Loss: 0.4867, Accuracy: 0.81, Time: 37.52 sec\n",
            "Epoch: [29]/(237/316), Train Loss: 0.5669, Accuracy: 0.80, Time: 56.34 sec\n",
            "Epoch: [29]/(316/316), Train Loss: 0.3177, Accuracy: 0.80, Time: 74.77 sec\n",
            "Epoch: [29], Test Loss: 0.5762, Accuracy: 0.75, Time: 13.95 sec\n",
            "\n",
            "\n",
            "Epoch: [30]/(79/316), Train Loss: 0.4036, Accuracy: 0.81, Time: 18.96 sec\n",
            "Epoch: [30]/(158/316), Train Loss: 0.4658, Accuracy: 0.81, Time: 37.59 sec\n",
            "Epoch: [30]/(237/316), Train Loss: 0.4440, Accuracy: 0.81, Time: 56.20 sec\n",
            "Epoch: [30]/(316/316), Train Loss: 0.4957, Accuracy: 0.80, Time: 74.74 sec\n",
            "Epoch: [30], Test Loss: 0.5964, Accuracy: 0.75, Time: 13.81 sec\n",
            "\n",
            "\n",
            "Epoch: [31]/(79/316), Train Loss: 0.4667, Accuracy: 0.80, Time: 18.65 sec\n",
            "Epoch: [31]/(158/316), Train Loss: 0.3640, Accuracy: 0.81, Time: 37.25 sec\n",
            "Epoch: [31]/(237/316), Train Loss: 0.5497, Accuracy: 0.81, Time: 55.99 sec\n",
            "Epoch: [31]/(316/316), Train Loss: 0.5327, Accuracy: 0.80, Time: 74.59 sec\n",
            "Epoch: [31], Test Loss: 0.5748, Accuracy: 0.76, Time: 13.86 sec\n",
            "\n",
            "\n",
            "Epoch: [32]/(79/316), Train Loss: 0.3848, Accuracy: 0.83, Time: 18.92 sec\n",
            "Epoch: [32]/(158/316), Train Loss: 0.4184, Accuracy: 0.83, Time: 37.41 sec\n",
            "Epoch: [32]/(237/316), Train Loss: 0.5261, Accuracy: 0.83, Time: 56.13 sec\n",
            "Epoch: [32]/(316/316), Train Loss: 0.3775, Accuracy: 0.82, Time: 74.49 sec\n",
            "Epoch: [32], Test Loss: 0.5664, Accuracy: 0.75, Time: 13.79 sec\n",
            "\n",
            "\n",
            "Epoch: [33]/(79/316), Train Loss: 0.3386, Accuracy: 0.84, Time: 18.73 sec\n",
            "Epoch: [33]/(158/316), Train Loss: 0.3813, Accuracy: 0.83, Time: 37.62 sec\n",
            "Epoch: [33]/(237/316), Train Loss: 0.5801, Accuracy: 0.82, Time: 56.34 sec\n",
            "Epoch: [33]/(316/316), Train Loss: 0.2812, Accuracy: 0.82, Time: 75.23 sec\n",
            "Epoch: [33], Test Loss: 0.5648, Accuracy: 0.77, Time: 13.91 sec\n",
            "\n",
            "\n",
            "Epoch: [34]/(79/316), Train Loss: 0.4617, Accuracy: 0.84, Time: 18.97 sec\n",
            "Epoch: [34]/(158/316), Train Loss: 0.4240, Accuracy: 0.83, Time: 37.64 sec\n",
            "Epoch: [34]/(237/316), Train Loss: 0.4813, Accuracy: 0.83, Time: 56.52 sec\n",
            "Epoch: [34]/(316/316), Train Loss: 0.3616, Accuracy: 0.82, Time: 75.27 sec\n",
            "Epoch: [34], Test Loss: 0.5652, Accuracy: 0.76, Time: 13.78 sec\n",
            "\n",
            "\n",
            "Epoch: [35]/(79/316), Train Loss: 0.3296, Accuracy: 0.83, Time: 18.96 sec\n",
            "Epoch: [35]/(158/316), Train Loss: 0.6918, Accuracy: 0.84, Time: 37.88 sec\n",
            "Epoch: [35]/(237/316), Train Loss: 0.4525, Accuracy: 0.84, Time: 56.79 sec\n",
            "Epoch: [35]/(316/316), Train Loss: 0.3374, Accuracy: 0.83, Time: 75.50 sec\n",
            "Epoch: [35], Test Loss: 0.5373, Accuracy: 0.78, Time: 14.16 sec\n",
            "\n",
            "\n",
            "Epoch: [36]/(79/316), Train Loss: 0.3046, Accuracy: 0.85, Time: 18.93 sec\n",
            "Epoch: [36]/(158/316), Train Loss: 0.3529, Accuracy: 0.85, Time: 37.84 sec\n",
            "Epoch: [36]/(237/316), Train Loss: 0.3341, Accuracy: 0.85, Time: 56.71 sec\n",
            "Epoch: [36]/(316/316), Train Loss: 0.3610, Accuracy: 0.84, Time: 75.43 sec\n",
            "Epoch: [36], Test Loss: 0.5561, Accuracy: 0.77, Time: 13.89 sec\n",
            "\n",
            "\n",
            "Epoch: [37]/(79/316), Train Loss: 0.3978, Accuracy: 0.86, Time: 19.05 sec\n",
            "Epoch: [37]/(158/316), Train Loss: 0.4204, Accuracy: 0.86, Time: 37.67 sec\n",
            "Epoch: [37]/(237/316), Train Loss: 0.3976, Accuracy: 0.85, Time: 56.61 sec\n",
            "Epoch: [37]/(316/316), Train Loss: 0.3469, Accuracy: 0.84, Time: 75.25 sec\n",
            "Epoch: [37], Test Loss: 0.5810, Accuracy: 0.76, Time: 13.93 sec\n",
            "\n",
            "\n",
            "Epoch: [38]/(79/316), Train Loss: 0.2985, Accuracy: 0.85, Time: 18.93 sec\n",
            "Epoch: [38]/(158/316), Train Loss: 0.3116, Accuracy: 0.85, Time: 37.83 sec\n",
            "Epoch: [38]/(237/316), Train Loss: 0.3955, Accuracy: 0.85, Time: 56.85 sec\n",
            "Epoch: [38]/(316/316), Train Loss: 0.2245, Accuracy: 0.84, Time: 75.36 sec\n",
            "Epoch: [38], Test Loss: 0.5945, Accuracy: 0.76, Time: 14.16 sec\n",
            "\n",
            "\n",
            "Epoch: [39]/(79/316), Train Loss: 0.4627, Accuracy: 0.84, Time: 18.85 sec\n",
            "Epoch: [39]/(158/316), Train Loss: 0.3725, Accuracy: 0.86, Time: 37.74 sec\n",
            "Epoch: [39]/(237/316), Train Loss: 0.4088, Accuracy: 0.85, Time: 56.61 sec\n",
            "Epoch: [39]/(316/316), Train Loss: 0.3213, Accuracy: 0.85, Time: 75.36 sec\n",
            "Epoch: [39], Test Loss: 0.5821, Accuracy: 0.76, Time: 14.01 sec\n",
            "\n",
            "\n",
            "Epoch: [40]/(79/316), Train Loss: 0.2632, Accuracy: 0.87, Time: 19.02 sec\n",
            "Epoch: [40]/(158/316), Train Loss: 0.3037, Accuracy: 0.86, Time: 37.75 sec\n",
            "Epoch: [40]/(237/316), Train Loss: 0.5455, Accuracy: 0.86, Time: 56.66 sec\n",
            "Epoch: [40]/(316/316), Train Loss: 0.3654, Accuracy: 0.85, Time: 75.70 sec\n",
            "Epoch: [40], Test Loss: 0.5632, Accuracy: 0.78, Time: 13.91 sec\n",
            "\n",
            "\n"
          ]
        }
      ]
    },
    {
      "cell_type": "markdown",
      "source": [
        "### Plot Losses and Accuracies"
      ],
      "metadata": {
        "id": "yavFpJggYwGg"
      }
    },
    {
      "cell_type": "code",
      "source": [
        "fig, ax = plt.subplots(1, 2, figsize=(13, 5))\n",
        "ax = ax.flatten()\n",
        "\n",
        "ax[0].plot(cnn_train_loss, label=\"Train Loss\")\n",
        "ax[0].plot(cnn_test_loss, label=\"Test Loss\")\n",
        "ax[0].set_title(\"CNN Losses\")\n",
        "ax[0].legend(loc='best')\n",
        "ax[0].set_ylabel(\"Loss\")\n",
        "ax[0].set_xlabel(\"Epoch\")\n",
        "\n",
        "ax[1].plot(cnn_acc_train, label=\"Train Accuracy\")\n",
        "ax[1].plot(cnn_acc_test, label=\"Test Accuracies\")\n",
        "ax[1].set_title(\"CNN Accuracies\")\n",
        "ax[1].legend(loc='best')\n",
        "ax[1].set_ylabel(\"Accuracy\")\n",
        "ax[1].set_xlabel(\"Epoch\")\n"
      ],
      "metadata": {
        "colab": {
          "base_uri": "https://localhost:8080/",
          "height": 367
        },
        "id": "0GkRdY0BYwsp",
        "outputId": "5157c1bf-7a97-4e9e-e67c-632e6e92feb2"
      },
      "execution_count": null,
      "outputs": [
        {
          "output_type": "execute_result",
          "data": {
            "text/plain": [
              "Text(0.5, 0, 'Epoch')"
            ]
          },
          "metadata": {},
          "execution_count": 12
        },
        {
          "output_type": "display_data",
          "data": {
            "image/png": "[encoded data removed]",
            "text/plain": [
              "<Figure size 936x360 with 2 Axes>"
            ]
          },
          "metadata": {
            "needs_background": "light"
          }
        }
      ]
    },
    {
      "cell_type": "code",
      "source": [
        ""
      ],
      "metadata": {
        "id": "n1YoaLsJqOWJ"
      },
      "execution_count": null,
      "outputs": []
    }
  ]
}