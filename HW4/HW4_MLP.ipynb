{
  "nbformat": 4,
  "nbformat_minor": 0,
  "metadata": {
    "colab": {
      "name": "HW4_MLP.ipynb",
      "provenance": [],
      "include_colab_link": true
    },
    "kernelspec": {
      "name": "python3",
      "display_name": "Python 3"
    },
    "language_info": {
      "name": "python"
    },
    "accelerator": "GPU"
  },
  "cells": [
    {
      "cell_type": "markdown",
      "metadata": {
        "id": "view-in-github",
        "colab_type": "text"
      },
      "source": [
        "<a href=\"https://colab.research.google.com/github/onurburakozdemir/FIZ437E/blob/main/HW4/HW4_MLP.ipynb\" target=\"_parent\"><img src=\"https://colab.research.google.com/assets/colab-badge.svg\" alt=\"Open In Colab\"/></a>"
      ]
    },
    {
      "cell_type": "markdown",
      "source": [
        "### Import Modules\n"
      ],
      "metadata": {
        "id": "oUsiRGwcVpaD"
      }
    },
    {
      "cell_type": "code",
      "execution_count": 1,
      "metadata": {
        "id": "K057dBWlrwTx"
      },
      "outputs": [],
      "source": [
        "import torch\n",
        "import torch.nn as nn\n",
        "import torch.nn.functional as F\n",
        "import torch.optim as optim\n",
        "import torch.utils.data as data\n",
        "\n",
        "import torchvision\n",
        "import torchvision.transforms as transforms\n",
        "import torchvision.datasets as datasets\n",
        "from torchsummary import summary\n",
        "\n",
        "from sklearn import metrics\n",
        "from sklearn import decomposition\n",
        "from sklearn import manifold\n",
        "import matplotlib.pyplot as plt\n",
        "import matplotlib.image as mpimg\n",
        "import numpy as np\n",
        "import pandas as pd\n",
        "from PIL import Image\n",
        "from IPython.display import display\n",
        "\n",
        "import copy\n",
        "import random\n",
        "import time"
      ]
    },
    {
      "cell_type": "code",
      "source": [
        "device = torch.device('cuda' if torch.cuda.is_available() else 'cpu')\n",
        "print('Using:', device)"
      ],
      "metadata": {
        "colab": {
          "base_uri": "https://localhost:8080/"
        },
        "id": "uMNoCPyFE0Zl",
        "outputId": "07ea8eb4-9893-4e49-9593-09a151d79cec"
      },
      "execution_count": 2,
      "outputs": [
        {
          "output_type": "stream",
          "name": "stdout",
          "text": [
            "Using: cuda\n"
          ]
        }
      ]
    },
    {
      "cell_type": "markdown",
      "source": [
        "### Import Data"
      ],
      "metadata": {
        "id": "FTzwBg9YVynw"
      }
    },
    {
      "cell_type": "code",
      "source": [
        "from google.colab import drive\n",
        "drive.mount('/content/drive')"
      ],
      "metadata": {
        "colab": {
          "base_uri": "https://localhost:8080/"
        },
        "id": "ShZyIsISWy39",
        "outputId": "39010c41-de33-4c54-c57d-144cd489fa18"
      },
      "execution_count": 4,
      "outputs": [
        {
          "output_type": "stream",
          "name": "stdout",
          "text": [
            "Mounted at /content/drive\n"
          ]
        }
      ]
    },
    {
      "cell_type": "code",
      "source": [
        "dataset_path = 'drive/MyDrive/img_data'\n",
        "\n",
        "mean = torch.tensor([0.485, 0.456, 0.406], dtype=torch.float32)\n",
        "std = torch.tensor([0.229, 0.224, 0.225], dtype=torch.float32)\n",
        "\n",
        "transform = transforms.Compose([\n",
        "  transforms.RandomRotation(5),\n",
        "  transforms.Resize(256),\n",
        "  transforms.RandomCrop(256, padding=5),\n",
        "\n",
        "  transforms.ToTensor(),\n",
        "  transforms.Normalize(mean=mean, std=std)\n",
        "])\n",
        "\n",
        "dataset = torchvision.datasets.ImageFolder(dataset_path, transform=transform)\n",
        "\n",
        "len_train = round(len(dataset)*0.8)\n",
        "len_test = len(dataset) - len_train\n",
        "\n",
        "train_dataset, test_dataset = torch.utils.data.random_split(dataset, (len_train, len_test))\n",
        "\n",
        "train_dataloader = torch.utils.data.DataLoader(\n",
        "    dataset=train_dataset,\n",
        "    batch_size=16,\n",
        "    shuffle=False,\n",
        ")\n",
        "\n",
        "test_dataloader = torch.utils.data.DataLoader(\n",
        "    dataset=test_dataset,\n",
        "    batch_size=16,\n",
        "    shuffle=False,\n",
        ")"
      ],
      "metadata": {
        "id": "D0KL1S5-EmgV"
      },
      "execution_count": 5,
      "outputs": []
    },
    {
      "cell_type": "code",
      "source": [
        "print(f'Number of training examples: {len(train_dataset)}')\n",
        "print(f'Number of testing examples: {len(test_dataset)}')"
      ],
      "metadata": {
        "colab": {
          "base_uri": "https://localhost:8080/"
        },
        "id": "EWW_-wXsGAQ4",
        "outputId": "728d831d-447e-464e-b680-a686e69c0f8c"
      },
      "execution_count": 6,
      "outputs": [
        {
          "output_type": "stream",
          "name": "stdout",
          "text": [
            "Number of training examples: 5047\n",
            "Number of testing examples: 1262\n"
          ]
        }
      ]
    },
    {
      "cell_type": "markdown",
      "source": [
        "### Define MLP Model"
      ],
      "metadata": {
        "id": "Ktih_lXEWAnW"
      }
    },
    {
      "cell_type": "code",
      "source": [
        "class MLP(nn.Module):\n",
        "    def __init__(self, input_dim, output_dim):\n",
        "        super().__init__()\n",
        "                \n",
        "        self.input_fc = nn.Linear(input_dim, 15)\n",
        "        self.hidden_fc = nn.Linear(15, 12)\n",
        "        self.output_fc = nn.Linear(12, output_dim)\n",
        "        \n",
        "    def forward(self, x):\n",
        "        \n",
        "        #x = [batch size, height, width]\n",
        "        \n",
        "        batch_size = x.shape[0]\n",
        "\n",
        "        x = x.view(batch_size, -1)\n",
        "        \n",
        "        #x = [batch size, height * width]\n",
        "        \n",
        "        h_1 = F.relu(self.input_fc(x))\n",
        "        \n",
        "        #h_1 = [batch size, 250]\n",
        "\n",
        "        h_2 = F.relu(self.hidden_fc(h_1))\n",
        "\n",
        "        #h_2 = [batch size, 100]\n",
        "\n",
        "        y_pred = self.output_fc(h_2)\n",
        "        \n",
        "        #y_pred = [batch size, output dim]\n",
        "        \n",
        "        return y_pred, h_2"
      ],
      "metadata": {
        "id": "P3coBq-8H2Tf"
      },
      "execution_count": 18,
      "outputs": []
    },
    {
      "cell_type": "code",
      "source": [
        "INPUT_DIM = 256 * 256 *3 \n",
        "OUTPUT_DIM = 10\n",
        "\n",
        "model = MLP(INPUT_DIM, OUTPUT_DIM).to(device)"
      ],
      "metadata": {
        "id": "9LdR7oPvP1BY"
      },
      "execution_count": 19,
      "outputs": []
    },
    {
      "cell_type": "code",
      "source": [
        "summary(model, (3,256,256))"
      ],
      "metadata": {
        "colab": {
          "base_uri": "https://localhost:8080/"
        },
        "id": "bifwH2LaVpih",
        "outputId": "49703346-053f-46e2-bed4-3ddbc64443ae"
      },
      "execution_count": 20,
      "outputs": [
        {
          "output_type": "stream",
          "name": "stdout",
          "text": [
            "----------------------------------------------------------------\n",
            "        Layer (type)               Output Shape         Param #\n",
            "================================================================\n",
            "            Linear-1                   [-1, 15]       2,949,135\n",
            "            Linear-2                   [-1, 12]             192\n",
            "            Linear-3                   [-1, 10]             130\n",
            "================================================================\n",
            "Total params: 2,949,457\n",
            "Trainable params: 2,949,457\n",
            "Non-trainable params: 0\n",
            "----------------------------------------------------------------\n",
            "Input size (MB): 0.75\n",
            "Forward/backward pass size (MB): 0.00\n",
            "Params size (MB): 11.25\n",
            "Estimated Total Size (MB): 12.00\n",
            "----------------------------------------------------------------\n"
          ]
        }
      ]
    },
    {
      "cell_type": "code",
      "source": [
        "optimizer = optim.Adam(model.parameters())\n",
        "criterion = nn.CrossEntropyLoss()"
      ],
      "metadata": {
        "id": "fASuVwsbQtLo"
      },
      "execution_count": 21,
      "outputs": []
    },
    {
      "cell_type": "code",
      "source": [
        "device = torch.device('cuda' if torch.cuda.is_available() else 'cpu')\n",
        "model = model.to(device)\n",
        "criterion = criterion.to(device)"
      ],
      "metadata": {
        "id": "H8jlZlHGQvT7"
      },
      "execution_count": 22,
      "outputs": []
    },
    {
      "cell_type": "markdown",
      "source": [
        "### MLP Train Function"
      ],
      "metadata": {
        "id": "Ozywa0zoWRtx"
      }
    },
    {
      "cell_type": "code",
      "source": [
        "def calculate_accuracy(y_pred, y):\n",
        "    top_pred = y_pred.argmax(1, keepdim = True)\n",
        "    correct = top_pred.eq(y.view_as(top_pred)).sum()\n",
        "    acc = correct.float() / y.shape[0]\n",
        "    return acc"
      ],
      "metadata": {
        "id": "qolnT3LPQ0hQ"
      },
      "execution_count": 23,
      "outputs": []
    },
    {
      "cell_type": "code",
      "source": [
        "def epoch_time(start_time, end_time):\n",
        "    elapsed_time = end_time - start_time\n",
        "    elapsed_mins = int(elapsed_time / 60)\n",
        "    elapsed_secs = int(elapsed_time - (elapsed_mins * 60))\n",
        "    return elapsed_mins, elapsed_secs"
      ],
      "metadata": {
        "id": "3eeBZ4dcRk_s"
      },
      "execution_count": 24,
      "outputs": []
    },
    {
      "cell_type": "code",
      "source": [
        "def train(model, iterator, optimizer, criterion, device,epoch):\n",
        "    \n",
        "    epoch_loss = 0\n",
        "    epoch_acc = 0\n",
        "    \n",
        "    model.train()\n",
        "    \n",
        "    for i,(x, y) in enumerate(iterator):\n",
        "        \n",
        "        x = x.to(device)\n",
        "        y = y.to(device)\n",
        "        \n",
        "        optimizer.zero_grad()\n",
        "                \n",
        "        y_pred, _ = model(x)\n",
        "        \n",
        "        loss = criterion(y_pred, y)\n",
        "        \n",
        "        acc = calculate_accuracy(y_pred, y)\n",
        "        \n",
        "        loss.backward()\n",
        "        \n",
        "        optimizer.step()\n",
        "        \n",
        "        epoch_loss += loss.item()\n",
        "        epoch_acc += acc.item()\n",
        "\n",
        "        if i%79 == 0:\n",
        "            print('Epoch: [{}]/({}/{})'.format(\n",
        "                epoch, i+1,len(train_dataloader)))\n",
        "        \n",
        "    return epoch_loss / len(iterator), epoch_acc / len(iterator)"
      ],
      "metadata": {
        "id": "ATeW-iflQ8-i"
      },
      "execution_count": 25,
      "outputs": []
    },
    {
      "cell_type": "markdown",
      "source": [
        "### MLP Test Function"
      ],
      "metadata": {
        "id": "quORexjCWXlx"
      }
    },
    {
      "cell_type": "code",
      "source": [
        "def evaluate(model, iterator, criterion, device):\n",
        "    \n",
        "    epoch_loss = 0\n",
        "    epoch_acc = 0\n",
        "    \n",
        "    model.eval()\n",
        "    \n",
        "    with torch.no_grad():\n",
        "        \n",
        "        for (x, y) in iterator:\n",
        "\n",
        "            x = x.to(device)\n",
        "            y = y.to(device)\n",
        "\n",
        "            y_pred, _ = model(x)\n",
        "\n",
        "            loss = criterion(y_pred, y)\n",
        "\n",
        "            acc = calculate_accuracy(y_pred, y)\n",
        "\n",
        "            epoch_loss += loss.item()\n",
        "            epoch_acc += acc.item()\n",
        "        \n",
        "    return epoch_loss / len(iterator), epoch_acc / len(iterator)"
      ],
      "metadata": {
        "id": "iNNw0hAuRF7_"
      },
      "execution_count": 26,
      "outputs": []
    },
    {
      "cell_type": "markdown",
      "source": [
        "### Train Model"
      ],
      "metadata": {
        "id": "j7zNZz72Wkb8"
      }
    },
    {
      "cell_type": "code",
      "source": [
        "EPOCHS = 40\n",
        "best_test_loss = float('inf')\n",
        "mlp_train_loss = []\n",
        "mlp_test_loss = []\n",
        "mlp_acc_train = []\n",
        "mlp_acc_test = []\n",
        "\n",
        "\n",
        "for epoch in range(EPOCHS):\n",
        "    \n",
        "    start_time = time.monotonic()\n",
        "    \n",
        "    train_loss, train_acc = train(model, train_dataloader, optimizer, criterion, device,epoch)\n",
        "    test_loss, test_acc = evaluate(model, test_dataloader, criterion, device)\n",
        "\n",
        "    if test_loss < best_test_loss:\n",
        "        best_test_loss = test_loss\n",
        "        torch.save(model.state_dict(), 'tut1-model.pt')\n",
        "\n",
        "    end_time = time.monotonic()\n",
        "\n",
        "    epoch_mins, epoch_secs = epoch_time(start_time, end_time)\n",
        "    mlp_train_loss.append(train_loss)\n",
        "    mlp_acc_train.append(train_acc)\n",
        "\n",
        "    mlp_test_loss.append(test_loss)\n",
        "    mlp_acc_test.append(test_acc)\n",
        "\n",
        "    print(f'Epoch: {epoch+1:02} | Epoch Time: {epoch_mins}m {epoch_secs}s')\n",
        "    print(f'\\tTrain Loss: {train_loss:.3f} | Train Acc: {train_acc*100:.2f}%')\n",
        "    print(f'\\t test Loss: {test_loss:.3f} |  test Acc: {test_acc*100:.2f}%')"
      ],
      "metadata": {
        "colab": {
          "base_uri": "https://localhost:8080/"
        },
        "id": "ybv9f3sfRl8b",
        "outputId": "af0fb098-bb67-4bb4-e415-9bee256e0f7c"
      },
      "execution_count": 28,
      "outputs": [
        {
          "output_type": "stream",
          "name": "stdout",
          "text": [
            "Epoch: [0]/(1/316)\n",
            "Epoch: [0]/(80/316)\n",
            "Epoch: [0]/(159/316)\n",
            "Epoch: [0]/(238/316)\n",
            "Epoch: 01 | Epoch Time: 33m 40s\n",
            "\tTrain Loss: 2.822 | Train Acc: 39.20%\n",
            "\t test Loss: 1.622 |  test Acc: 44.29%\n",
            "Epoch: [1]/(1/316)\n",
            "Epoch: [1]/(80/316)\n",
            "Epoch: [1]/(159/316)\n",
            "Epoch: [1]/(238/316)\n",
            "Epoch: 02 | Epoch Time: 0m 49s\n",
            "\tTrain Loss: 1.355 | Train Acc: 41.16%\n",
            "\t test Loss: 1.234 |  test Acc: 40.24%\n",
            "Epoch: [2]/(1/316)\n",
            "Epoch: [2]/(80/316)\n",
            "Epoch: [2]/(159/316)\n",
            "Epoch: [2]/(238/316)\n",
            "Epoch: 03 | Epoch Time: 0m 49s\n",
            "\tTrain Loss: 1.199 | Train Acc: 41.76%\n",
            "\t test Loss: 1.123 |  test Acc: 43.96%\n",
            "Epoch: [3]/(1/316)\n",
            "Epoch: [3]/(80/316)\n",
            "Epoch: [3]/(159/316)\n",
            "Epoch: [3]/(238/316)\n",
            "Epoch: 04 | Epoch Time: 0m 49s\n",
            "\tTrain Loss: 1.140 | Train Acc: 44.57%\n",
            "\t test Loss: 1.119 |  test Acc: 45.39%\n",
            "Epoch: [4]/(1/316)\n",
            "Epoch: [4]/(80/316)\n",
            "Epoch: [4]/(159/316)\n",
            "Epoch: [4]/(238/316)\n",
            "Epoch: 05 | Epoch Time: 0m 50s\n",
            "\tTrain Loss: 1.095 | Train Acc: 47.80%\n",
            "\t test Loss: 1.063 |  test Acc: 48.75%\n",
            "Epoch: [5]/(1/316)\n",
            "Epoch: [5]/(80/316)\n",
            "Epoch: [5]/(159/316)\n",
            "Epoch: [5]/(238/316)\n",
            "Epoch: 06 | Epoch Time: 0m 49s\n",
            "\tTrain Loss: 1.050 | Train Acc: 49.54%\n",
            "\t test Loss: 1.096 |  test Acc: 50.81%\n",
            "Epoch: [6]/(1/316)\n",
            "Epoch: [6]/(80/316)\n",
            "Epoch: [6]/(159/316)\n",
            "Epoch: [6]/(238/316)\n",
            "Epoch: 07 | Epoch Time: 0m 49s\n",
            "\tTrain Loss: 1.038 | Train Acc: 50.39%\n",
            "\t test Loss: 1.060 |  test Acc: 50.54%\n",
            "Epoch: [7]/(1/316)\n",
            "Epoch: [7]/(80/316)\n",
            "Epoch: [7]/(159/316)\n",
            "Epoch: [7]/(238/316)\n",
            "Epoch: 08 | Epoch Time: 0m 49s\n",
            "\tTrain Loss: 1.028 | Train Acc: 50.89%\n",
            "\t test Loss: 1.041 |  test Acc: 49.28%\n",
            "Epoch: [8]/(1/316)\n",
            "Epoch: [8]/(80/316)\n",
            "Epoch: [8]/(159/316)\n",
            "Epoch: [8]/(238/316)\n",
            "Epoch: 09 | Epoch Time: 0m 49s\n",
            "\tTrain Loss: 1.008 | Train Acc: 51.87%\n",
            "\t test Loss: 1.093 |  test Acc: 47.52%\n",
            "Epoch: [9]/(1/316)\n",
            "Epoch: [9]/(80/316)\n",
            "Epoch: [9]/(159/316)\n",
            "Epoch: [9]/(238/316)\n",
            "Epoch: 10 | Epoch Time: 0m 49s\n",
            "\tTrain Loss: 1.036 | Train Acc: 50.94%\n",
            "\t test Loss: 1.077 |  test Acc: 51.92%\n",
            "Epoch: [10]/(1/316)\n",
            "Epoch: [10]/(80/316)\n",
            "Epoch: [10]/(159/316)\n",
            "Epoch: [10]/(238/316)\n",
            "Epoch: 11 | Epoch Time: 0m 49s\n",
            "\tTrain Loss: 1.034 | Train Acc: 51.33%\n",
            "\t test Loss: 1.013 |  test Acc: 52.85%\n",
            "Epoch: [11]/(1/316)\n",
            "Epoch: [11]/(80/316)\n",
            "Epoch: [11]/(159/316)\n",
            "Epoch: [11]/(238/316)\n",
            "Epoch: 12 | Epoch Time: 0m 48s\n",
            "\tTrain Loss: 1.009 | Train Acc: 51.53%\n",
            "\t test Loss: 1.017 |  test Acc: 52.01%\n",
            "Epoch: [12]/(1/316)\n",
            "Epoch: [12]/(80/316)\n",
            "Epoch: [12]/(159/316)\n",
            "Epoch: [12]/(238/316)\n",
            "Epoch: 13 | Epoch Time: 0m 48s\n",
            "\tTrain Loss: 1.009 | Train Acc: 51.44%\n",
            "\t test Loss: 1.027 |  test Acc: 51.16%\n",
            "Epoch: [13]/(1/316)\n",
            "Epoch: [13]/(80/316)\n",
            "Epoch: [13]/(159/316)\n",
            "Epoch: [13]/(238/316)\n",
            "Epoch: 14 | Epoch Time: 0m 48s\n",
            "\tTrain Loss: 1.011 | Train Acc: 50.16%\n",
            "\t test Loss: 0.983 |  test Acc: 52.00%\n",
            "Epoch: [14]/(1/316)\n",
            "Epoch: [14]/(80/316)\n",
            "Epoch: [14]/(159/316)\n",
            "Epoch: [14]/(238/316)\n",
            "Epoch: 15 | Epoch Time: 0m 49s\n",
            "\tTrain Loss: 0.983 | Train Acc: 52.62%\n",
            "\t test Loss: 0.984 |  test Acc: 53.27%\n",
            "Epoch: [15]/(1/316)\n",
            "Epoch: [15]/(80/316)\n",
            "Epoch: [15]/(159/316)\n",
            "Epoch: [15]/(238/316)\n",
            "Epoch: 16 | Epoch Time: 0m 48s\n",
            "\tTrain Loss: 0.980 | Train Acc: 52.17%\n",
            "\t test Loss: 0.994 |  test Acc: 52.85%\n",
            "Epoch: [16]/(1/316)\n",
            "Epoch: [16]/(80/316)\n",
            "Epoch: [16]/(159/316)\n",
            "Epoch: [16]/(238/316)\n",
            "Epoch: 17 | Epoch Time: 0m 48s\n",
            "\tTrain Loss: 0.974 | Train Acc: 53.28%\n",
            "\t test Loss: 0.983 |  test Acc: 53.80%\n",
            "Epoch: [17]/(1/316)\n",
            "Epoch: [17]/(80/316)\n",
            "Epoch: [17]/(159/316)\n",
            "Epoch: [17]/(238/316)\n",
            "Epoch: 18 | Epoch Time: 0m 48s\n",
            "\tTrain Loss: 0.976 | Train Acc: 52.52%\n",
            "\t test Loss: 0.972 |  test Acc: 54.20%\n",
            "Epoch: [18]/(1/316)\n",
            "Epoch: [18]/(80/316)\n",
            "Epoch: [18]/(159/316)\n",
            "Epoch: [18]/(238/316)\n",
            "Epoch: 19 | Epoch Time: 0m 48s\n",
            "\tTrain Loss: 0.959 | Train Acc: 53.13%\n",
            "\t test Loss: 0.971 |  test Acc: 54.19%\n",
            "Epoch: [19]/(1/316)\n",
            "Epoch: [19]/(80/316)\n",
            "Epoch: [19]/(159/316)\n",
            "Epoch: [19]/(238/316)\n",
            "Epoch: 20 | Epoch Time: 0m 48s\n",
            "\tTrain Loss: 0.969 | Train Acc: 53.21%\n",
            "\t test Loss: 0.997 |  test Acc: 52.77%\n",
            "Epoch: [20]/(1/316)\n",
            "Epoch: [20]/(80/316)\n",
            "Epoch: [20]/(159/316)\n",
            "Epoch: [20]/(238/316)\n",
            "Epoch: 21 | Epoch Time: 0m 48s\n",
            "\tTrain Loss: 0.966 | Train Acc: 52.68%\n",
            "\t test Loss: 0.962 |  test Acc: 54.29%\n",
            "Epoch: [21]/(1/316)\n",
            "Epoch: [21]/(80/316)\n",
            "Epoch: [21]/(159/316)\n",
            "Epoch: [21]/(238/316)\n",
            "Epoch: 22 | Epoch Time: 0m 48s\n",
            "\tTrain Loss: 0.963 | Train Acc: 54.32%\n",
            "\t test Loss: 0.977 |  test Acc: 52.61%\n",
            "Epoch: [22]/(1/316)\n",
            "Epoch: [22]/(80/316)\n",
            "Epoch: [22]/(159/316)\n",
            "Epoch: [22]/(238/316)\n",
            "Epoch: 23 | Epoch Time: 0m 48s\n",
            "\tTrain Loss: 0.965 | Train Acc: 53.69%\n",
            "\t test Loss: 0.961 |  test Acc: 53.41%\n",
            "Epoch: [23]/(1/316)\n",
            "Epoch: [23]/(80/316)\n",
            "Epoch: [23]/(159/316)\n",
            "Epoch: [23]/(238/316)\n",
            "Epoch: 24 | Epoch Time: 0m 48s\n",
            "\tTrain Loss: 0.967 | Train Acc: 53.22%\n",
            "\t test Loss: 0.952 |  test Acc: 55.15%\n",
            "Epoch: [24]/(1/316)\n",
            "Epoch: [24]/(80/316)\n",
            "Epoch: [24]/(159/316)\n",
            "Epoch: [24]/(238/316)\n",
            "Epoch: 25 | Epoch Time: 0m 48s\n",
            "\tTrain Loss: 0.946 | Train Acc: 54.91%\n",
            "\t test Loss: 0.949 |  test Acc: 54.89%\n",
            "Epoch: [25]/(1/316)\n",
            "Epoch: [25]/(80/316)\n",
            "Epoch: [25]/(159/316)\n",
            "Epoch: [25]/(238/316)\n",
            "Epoch: 26 | Epoch Time: 0m 47s\n",
            "\tTrain Loss: 0.940 | Train Acc: 54.71%\n",
            "\t test Loss: 0.965 |  test Acc: 55.15%\n",
            "Epoch: [26]/(1/316)\n",
            "Epoch: [26]/(80/316)\n",
            "Epoch: [26]/(159/316)\n",
            "Epoch: [26]/(238/316)\n",
            "Epoch: 27 | Epoch Time: 0m 48s\n",
            "\tTrain Loss: 0.998 | Train Acc: 50.48%\n",
            "\t test Loss: 0.952 |  test Acc: 54.44%\n",
            "Epoch: [27]/(1/316)\n",
            "Epoch: [27]/(80/316)\n",
            "Epoch: [27]/(159/316)\n",
            "Epoch: [27]/(238/316)\n",
            "Epoch: 28 | Epoch Time: 0m 49s\n",
            "\tTrain Loss: 0.940 | Train Acc: 54.70%\n",
            "\t test Loss: 0.955 |  test Acc: 55.31%\n",
            "Epoch: [28]/(1/316)\n",
            "Epoch: [28]/(80/316)\n",
            "Epoch: [28]/(159/316)\n",
            "Epoch: [28]/(238/316)\n",
            "Epoch: 29 | Epoch Time: 0m 48s\n",
            "\tTrain Loss: 0.938 | Train Acc: 54.69%\n",
            "\t test Loss: 0.962 |  test Acc: 55.24%\n",
            "Epoch: [29]/(1/316)\n",
            "Epoch: [29]/(80/316)\n",
            "Epoch: [29]/(159/316)\n",
            "Epoch: [29]/(238/316)\n",
            "Epoch: 30 | Epoch Time: 0m 48s\n",
            "\tTrain Loss: 0.927 | Train Acc: 55.61%\n",
            "\t test Loss: 0.946 |  test Acc: 53.40%\n",
            "Epoch: [30]/(1/316)\n",
            "Epoch: [30]/(80/316)\n",
            "Epoch: [30]/(159/316)\n",
            "Epoch: [30]/(238/316)\n",
            "Epoch: 31 | Epoch Time: 0m 49s\n",
            "\tTrain Loss: 0.923 | Train Acc: 55.44%\n",
            "\t test Loss: 0.927 |  test Acc: 54.35%\n",
            "Epoch: [31]/(1/316)\n",
            "Epoch: [31]/(80/316)\n",
            "Epoch: [31]/(159/316)\n",
            "Epoch: [31]/(238/316)\n",
            "Epoch: 32 | Epoch Time: 0m 48s\n",
            "\tTrain Loss: 0.927 | Train Acc: 55.02%\n",
            "\t test Loss: 0.940 |  test Acc: 55.71%\n",
            "Epoch: [32]/(1/316)\n",
            "Epoch: [32]/(80/316)\n",
            "Epoch: [32]/(159/316)\n",
            "Epoch: [32]/(238/316)\n",
            "Epoch: 33 | Epoch Time: 0m 48s\n",
            "\tTrain Loss: 0.924 | Train Acc: 55.60%\n",
            "\t test Loss: 0.930 |  test Acc: 54.96%\n",
            "Epoch: [33]/(1/316)\n",
            "Epoch: [33]/(80/316)\n",
            "Epoch: [33]/(159/316)\n",
            "Epoch: [33]/(238/316)\n",
            "Epoch: 34 | Epoch Time: 0m 49s\n",
            "\tTrain Loss: 0.927 | Train Acc: 56.33%\n",
            "\t test Loss: 0.935 |  test Acc: 55.22%\n",
            "Epoch: [34]/(1/316)\n",
            "Epoch: [34]/(80/316)\n",
            "Epoch: [34]/(159/316)\n",
            "Epoch: [34]/(238/316)\n",
            "Epoch: 35 | Epoch Time: 0m 49s\n",
            "\tTrain Loss: 0.919 | Train Acc: 55.94%\n",
            "\t test Loss: 0.924 |  test Acc: 55.88%\n",
            "Epoch: [35]/(1/316)\n",
            "Epoch: [35]/(80/316)\n",
            "Epoch: [35]/(159/316)\n",
            "Epoch: [35]/(238/316)\n",
            "Epoch: 36 | Epoch Time: 0m 49s\n",
            "\tTrain Loss: 0.918 | Train Acc: 56.15%\n",
            "\t test Loss: 0.913 |  test Acc: 56.10%\n",
            "Epoch: [36]/(1/316)\n",
            "Epoch: [36]/(80/316)\n",
            "Epoch: [36]/(159/316)\n",
            "Epoch: [36]/(238/316)\n",
            "Epoch: 37 | Epoch Time: 0m 49s\n",
            "\tTrain Loss: 0.909 | Train Acc: 56.04%\n",
            "\t test Loss: 0.915 |  test Acc: 56.82%\n",
            "Epoch: [37]/(1/316)\n",
            "Epoch: [37]/(80/316)\n",
            "Epoch: [37]/(159/316)\n",
            "Epoch: [37]/(238/316)\n",
            "Epoch: 38 | Epoch Time: 0m 49s\n",
            "\tTrain Loss: 0.908 | Train Acc: 57.70%\n",
            "\t test Loss: 0.932 |  test Acc: 55.46%\n",
            "Epoch: [38]/(1/316)\n",
            "Epoch: [38]/(80/316)\n",
            "Epoch: [38]/(159/316)\n",
            "Epoch: [38]/(238/316)\n",
            "Epoch: 39 | Epoch Time: 0m 48s\n",
            "\tTrain Loss: 0.907 | Train Acc: 56.88%\n",
            "\t test Loss: 0.926 |  test Acc: 56.34%\n",
            "Epoch: [39]/(1/316)\n",
            "Epoch: [39]/(80/316)\n",
            "Epoch: [39]/(159/316)\n",
            "Epoch: [39]/(238/316)\n",
            "Epoch: 40 | Epoch Time: 0m 48s\n",
            "\tTrain Loss: 0.899 | Train Acc: 57.46%\n",
            "\t test Loss: 0.936 |  test Acc: 55.67%\n"
          ]
        }
      ]
    },
    {
      "cell_type": "markdown",
      "source": [
        "### Plot Losses and Accuracies"
      ],
      "metadata": {
        "id": "8hrpSM9vXnk6"
      }
    },
    {
      "cell_type": "code",
      "source": [
        "fig, ax = plt.subplots(1, 2, figsize=(20, 10))\n",
        "ax = ax.flatten()\n",
        "ax[0].plot(mlp_train_loss, label=\"Train Loss\")\n",
        "ax[0].plot(mlp_test_loss, label=\"Test Loss\")\n",
        "ax[0].set_title(\"MLP Losses\")\n",
        "ax[0].legend(loc='best')\n",
        "ax[0].set_ylabel(\"Loss\")\n",
        "ax[0].set_xlabel(\"Epoch\")\n",
        "\n",
        "ax[1].plot(mlp_acc_train, label=\"Train Accuracy\")\n",
        "ax[1].plot(mlp_acc_test, label=\"Test Accuracies\")\n",
        "ax[1].set_title(\"MLP Accuracies\")\n",
        "ax[1].legend(loc='best')\n",
        "ax[1].set_ylabel(\"Accuracy\")\n",
        "ax[1].set_xlabel(\"Epoch\")"
      ],
      "metadata": {
        "id": "CNfgsOMKZ6Dc",
        "colab": {
          "base_uri": "https://localhost:8080/",
          "height": 606
        },
        "outputId": "74810877-78aa-4f89-b5ed-83603a04145a"
      },
      "execution_count": 29,
      "outputs": [
        {
          "output_type": "execute_result",
          "data": {
            "text/plain": [
              "Text(0.5, 0, 'Epoch')"
            ]
          },
          "metadata": {},
          "execution_count": 29
        },
        {
          "output_type": "display_data",
          "data": {
            "image/png": "[encoded data removed]",
            "text/plain": [
              "<Figure size 1440x720 with 2 Axes>"
            ]
          },
          "metadata": {
            "needs_background": "light"
          }
        }
      ]
    }
  ]
}